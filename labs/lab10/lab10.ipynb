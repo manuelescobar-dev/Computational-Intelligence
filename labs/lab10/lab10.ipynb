{
 "cells": [
  {
   "cell_type": "markdown",
   "metadata": {},
   "source": [
    "Copyright **`(c)`** 2023 Giovanni Squillero `<giovanni.squillero@polito.it>`  \n",
    "[`https://github.com/squillero/computational-intelligence`](https://github.com/squillero/computational-intelligence)  \n",
    "Free for personal or classroom use; see [`LICENSE.md`](https://github.com/squillero/computational-intelligence/blob/master/LICENSE.md) for details.  "
   ]
  },
  {
   "cell_type": "markdown",
   "metadata": {},
   "source": [
    "# LAB10\n",
    "\n",
    "Use reinforcement learning to devise a tic-tac-toe player.\n",
    "\n",
    "### Deadlines:\n",
    "\n",
    "* Submission: [Dies Natalis Solis Invicti](https://en.wikipedia.org/wiki/Sol_Invictus)\n",
    "* Reviews: [Befana](https://en.wikipedia.org/wiki/Befana)\n",
    "\n",
    "Notes:\n",
    "\n",
    "* Reviews will be assigned  on Monday, December 4\n",
    "* You need to commit in order to be selected as a reviewer (ie. better to commit an empty work than not to commit)"
   ]
  },
  {
   "cell_type": "code",
   "execution_count": 4,
   "metadata": {},
   "outputs": [],
   "source": [
    "import random\n",
    "import scripts.tictactoe as ttt\n",
    "import scripts.minmax as mm"
   ]
  },
  {
   "cell_type": "markdown",
   "metadata": {},
   "source": [
    "# Description"
   ]
  },
  {
   "cell_type": "markdown",
   "metadata": {},
   "source": [
    "Instructions for running the scripts and file structure are available on the README.md file in the root of the repository.\n",
    "This notebook is used to train the agent and to show the results."
   ]
  },
  {
   "cell_type": "markdown",
   "metadata": {},
   "source": [
    "# MinMax"
   ]
  },
  {
   "cell_type": "markdown",
   "metadata": {},
   "source": [
    "To play against the MinMax player:\n",
    "1. Install the requirements: `pip install -r scripts/requirements.txt`\n",
    "2. Run the game: `python3 runner.py`"
   ]
  },
  {
   "cell_type": "markdown",
   "metadata": {},
   "source": [
    "# Reinforcement Learning"
   ]
  },
  {
   "cell_type": "markdown",
   "metadata": {},
   "source": [
    "## Training"
   ]
  },
  {
   "cell_type": "code",
   "execution_count": 2,
   "metadata": {},
   "outputs": [],
   "source": [
    "import scripts.qlearning as qlearning"
   ]
  },
  {
   "cell_type": "code",
   "execution_count": 1,
   "metadata": {},
   "outputs": [],
   "source": [
    "# Training\n",
    "episodes = 1000000\n",
    "\n",
    "# Parameters\n",
    "gamma = 0.98\n",
    "alpha = 0.1"
   ]
  },
  {
   "cell_type": "code",
   "execution_count": 4,
   "metadata": {},
   "outputs": [
    {
     "name": "stdout",
     "output_type": "stream",
     "text": [
      "Episode 0, average reward: 1.00\n",
      "Epsilon: 1.0\n",
      "Episode 10000, average reward: 0.01\n",
      "Epsilon: 0.9174311169092816\n",
      "Episode 20000, average reward: 0.08\n",
      "Epsilon: 0.8474574978453372\n",
      "Episode 30000, average reward: 0.13\n",
      "Epsilon: 0.7874014074026829\n",
      "Episode 40000, average reward: 0.17\n",
      "Epsilon: 0.7352939230102375\n",
      "Episode 50000, average reward: 0.24\n",
      "Epsilon: 0.6896549583827299\n",
      "Episode 60000, average reward: 0.26\n",
      "Epsilon: 0.649350421656118\n",
      "Episode 70000, average reward: 0.31\n",
      "Epsilon: 0.6134966953967457\n",
      "Episode 80000, average reward: 0.33\n",
      "Epsilon: 0.5813951054622706\n",
      "Episode 90000, average reward: 0.33\n",
      "Epsilon: 0.5524859405999671\n",
      "Episode 100000, average reward: 0.38\n",
      "Epsilon: 0.5263155401660737\n",
      "Episode 110000, average reward: 0.39\n",
      "Epsilon: 0.5025123128202577\n",
      "Episode 120000, average reward: 0.41\n",
      "Epsilon: 0.48076898113893324\n",
      "Episode 130000, average reward: 0.43\n",
      "Epsilon: 0.4608292446217717\n",
      "Episode 140000, average reward: 0.45\n",
      "Epsilon: 0.4424776294148803\n",
      "Episode 150000, average reward: 0.46\n",
      "Epsilon: 0.4255316704390087\n",
      "Episode 160000, average reward: 0.48\n",
      "Epsilon: 0.4098358237032064\n",
      "Episode 170000, average reward: 0.49\n",
      "Epsilon: 0.39525667796706637\n",
      "Episode 180000, average reward: 0.49\n",
      "Epsilon: 0.38167915331265395\n",
      "Episode 190000, average reward: 0.50\n",
      "Epsilon: 0.3690034571968477\n",
      "Episode 200000, average reward: 0.51\n",
      "Epsilon: 0.3571426275509384\n",
      "Episode 210000, average reward: 0.53\n",
      "Epsilon: 0.3460205349552024\n",
      "Episode 220000, average reward: 0.54\n",
      "Epsilon: 0.3355702468356533\n",
      "Episode 230000, average reward: 0.53\n",
      "Epsilon: 0.32573267939175227\n",
      "Episode 240000, average reward: 0.56\n",
      "Epsilon: 0.31645547989097467\n",
      "Episode 250000, average reward: 0.56\n",
      "Epsilon: 0.30769209467449066\n",
      "Episode 260000, average reward: 0.57\n",
      "Epsilon: 0.2994009878446071\n",
      "Episode 270000, average reward: 0.57\n",
      "Epsilon: 0.29154498295772097\n",
      "Episode 280000, average reward: 0.57\n",
      "Epsilon: 0.2840907057075868\n",
      "Episode 290000, average reward: 0.58\n",
      "Epsilon: 0.2770081099745457\n",
      "Episode 300000, average reward: 0.59\n",
      "Epsilon: 0.2702700730459657\n",
      "Episode 310000, average reward: 0.58\n",
      "Epsilon: 0.26385204850977534\n",
      "Episode 320000, average reward: 0.60\n",
      "Epsilon: 0.2577317674566411\n",
      "Episode 330000, average reward: 0.59\n",
      "Epsilon: 0.25188898032468016\n",
      "Episode 340000, average reward: 0.60\n",
      "Epsilon: 0.24630523308010668\n",
      "Episode 350000, average reward: 0.61\n",
      "Epsilon: 0.24096367252136688\n",
      "Episode 360000, average reward: 0.60\n",
      "Epsilon: 0.23584887637945198\n",
      "Episode 370000, average reward: 0.62\n",
      "Epsilon: 0.23094670460662925\n",
      "Episode 380000, average reward: 0.61\n",
      "Epsilon: 0.22624416883352236\n",
      "Episode 390000, average reward: 0.61\n",
      "Epsilon: 0.2217293174566114\n",
      "Episode 400000, average reward: 0.62\n",
      "Epsilon: 0.21739113421546397\n",
      "Episode 410000, average reward: 0.63\n",
      "Epsilon: 0.2132194484476436\n",
      "Episode 420000, average reward: 0.63\n",
      "Epsilon: 0.20920485548218734\n",
      "Episode 430000, average reward: 0.64\n",
      "Epsilon: 0.20533864586009154\n",
      "Episode 440000, average reward: 0.63\n",
      "Epsilon: 0.20161274226063353\n",
      "Episode 450000, average reward: 0.63\n",
      "Epsilon: 0.19801964317220658\n",
      "Episode 460000, average reward: 0.63\n",
      "Epsilon: 0.19455237248100632\n",
      "Episode 470000, average reward: 0.64\n",
      "Epsilon: 0.19120443426471018\n",
      "Episode 480000, average reward: 0.64\n",
      "Epsilon: 0.1879697721747692\n",
      "Episode 490000, average reward: 0.66\n",
      "Epsilon: 0.18484273287296357\n",
      "Episode 500000, average reward: 0.65\n",
      "Epsilon: 0.18181803305782418\n",
      "Episode 510000, average reward: 0.65\n",
      "Epsilon: 0.17889072967633804\n",
      "Episode 520000, average reward: 0.66\n",
      "Epsilon: 0.1760561929676396\n",
      "Episode 530000, average reward: 0.65\n",
      "Epsilon: 0.17331008202947695\n",
      "Episode 540000, average reward: 0.65\n",
      "Epsilon: 0.17064832263623253\n",
      "Episode 550000, average reward: 0.67\n",
      "Epsilon: 0.16806708707009868\n",
      "Episode 560000, average reward: 0.66\n",
      "Epsilon: 0.16556277575542644\n",
      "Episode 570000, average reward: 0.67\n",
      "Epsilon: 0.16313200051092994\n",
      "Episode 580000, average reward: 0.66\n",
      "Epsilon: 0.1607715692558793\n",
      "Episode 590000, average reward: 0.67\n",
      "Epsilon: 0.15847847202511442\n",
      "Episode 600000, average reward: 0.66\n",
      "Epsilon: 0.1562498681640419\n",
      "Episode 610000, average reward: 0.67\n",
      "Epsilon: 0.15408307458907158\n",
      "Episode 620000, average reward: 0.68\n",
      "Epsilon: 0.15197555501148252\n",
      "Episode 630000, average reward: 0.66\n",
      "Epsilon: 0.14992491003371963\n",
      "Episode 640000, average reward: 0.66\n",
      "Epsilon: 0.1479288680368148\n",
      "Episode 650000, average reward: 0.68\n",
      "Epsilon: 0.1459852767861718\n",
      "Episode 660000, average reward: 0.67\n",
      "Epsilon: 0.1440920956905037\n",
      "Episode 670000, average reward: 0.68\n",
      "Epsilon: 0.14224738865538958\n",
      "Episode 680000, average reward: 0.69\n",
      "Epsilon: 0.14044931747883674\n",
      "Episode 690000, average reward: 0.68\n",
      "Epsilon: 0.138696135741489\n",
      "Episode 700000, average reward: 0.67\n",
      "Epsilon: 0.1369861831487922\n",
      "Episode 710000, average reward: 0.69\n",
      "Epsilon: 0.1353178802865873\n",
      "Episode 720000, average reward: 0.69\n",
      "Epsilon: 0.13368972375531066\n",
      "Episode 730000, average reward: 0.68\n",
      "Epsilon: 0.13210028165129217\n",
      "Episode 740000, average reward: 0.68\n",
      "Epsilon: 0.13054818936660437\n",
      "Episode 750000, average reward: 0.68\n",
      "Epsilon: 0.12903214568156718\n",
      "Episode 760000, average reward: 0.69\n",
      "Epsilon: 0.12755090912639147\n",
      "Episode 770000, average reward: 0.69\n",
      "Epsilon: 0.1261032945905794\n",
      "Episode 780000, average reward: 0.69\n",
      "Epsilon: 0.12468817016061973\n",
      "Episode 790000, average reward: 0.69\n",
      "Epsilon: 0.12330445416824343\n",
      "Episode 800000, average reward: 0.69\n",
      "Epsilon: 0.12195111243306249\n",
      "Episode 810000, average reward: 0.70\n",
      "Epsilon: 0.12062715568481974\n",
      "Episode 820000, average reward: 0.71\n",
      "Epsilon: 0.11933163715174668\n",
      "Episode 830000, average reward: 0.70\n",
      "Epsilon: 0.11806365030267418\n",
      "Episode 840000, average reward: 0.69\n",
      "Epsilon: 0.11682232673158023\n",
      "Episode 850000, average reward: 0.69\n",
      "Epsilon: 0.11560683417420048\n",
      "Episode 860000, average reward: 0.70\n",
      "Epsilon: 0.11441637464718245\n",
      "Episode 870000, average reward: 0.71\n",
      "Epsilon: 0.11325018270103994\n",
      "Episode 880000, average reward: 0.71\n",
      "Epsilon: 0.11210752377887039\n",
      "Episode 890000, average reward: 0.71\n",
      "Epsilon: 0.1109876926734398\n",
      "Episode 900000, average reward: 0.70\n",
      "Epsilon: 0.10989001207582551\n",
      "Episode 910000, average reward: 0.70\n",
      "Epsilon: 0.10881383120933963\n",
      "Episode 920000, average reward: 0.71\n",
      "Epsilon: 0.10775852454294446\n",
      "Episode 930000, average reward: 0.71\n",
      "Epsilon: 0.10672349057881436\n",
      "Episode 940000, average reward: 0.70\n",
      "Epsilon: 0.10570815070910684\n",
      "Episode 950000, average reward: 0.70\n",
      "Epsilon: 0.10471194813737676\n",
      "Episode 960000, average reward: 0.71\n",
      "Epsilon: 0.10373434686040943\n",
      "Episode 970000, average reward: 0.71\n",
      "Epsilon: 0.1027748307065602\n",
      "Episode 980000, average reward: 0.70\n",
      "Epsilon: 0.1018329024269758\n",
      "Episode 990000, average reward: 0.71\n",
      "Epsilon: 0.1009080828363353\n"
     ]
    },
    {
     "data": {
      "image/png": "[encoded data removed]",
      "text/plain": [
       "<Figure size 640x480 with 1 Axes>"
      ]
     },
     "metadata": {},
     "output_type": "display_data"
    },
    {
     "name": "stdout",
     "output_type": "stream",
     "text": [
      "Saving Q-values to file...\n"
     ]
    }
   ],
   "source": [
    "# Run training against random player\n",
    "qlearning.train(\n",
    "    episodes,\n",
    "    gamma=gamma,\n",
    "    alpha=alpha,\n",
    "    plot=True,\n",
    "    filename=\"scripts/q_values.npy\",\n",
    ")"
   ]
  },
  {
   "cell_type": "code",
   "execution_count": 5,
   "metadata": {},
   "outputs": [
    {
     "name": "stdout",
     "output_type": "stream",
     "text": [
      "Episode 0, average reward: -1.00\n",
      "Epsilon: 1.0\n",
      "Episode 10000, average reward: -0.90\n",
      "Epsilon: 0.9174311169092816\n",
      "Episode 20000, average reward: -0.89\n",
      "Epsilon: 0.8474574978453372\n",
      "Episode 30000, average reward: -0.88\n",
      "Epsilon: 0.7874014074026829\n",
      "Episode 40000, average reward: -0.89\n",
      "Epsilon: 0.7352939230102375\n",
      "Episode 50000, average reward: -0.88\n",
      "Epsilon: 0.6896549583827299\n",
      "Episode 60000, average reward: -0.87\n",
      "Epsilon: 0.649350421656118\n",
      "Episode 70000, average reward: -0.87\n",
      "Epsilon: 0.6134966953967457\n",
      "Episode 80000, average reward: -0.87\n",
      "Epsilon: 0.5813951054622706\n",
      "Episode 90000, average reward: -0.86\n",
      "Epsilon: 0.5524859405999671\n",
      "Episode 100000, average reward: -0.85\n",
      "Epsilon: 0.5263155401660737\n",
      "Episode 110000, average reward: -0.85\n",
      "Epsilon: 0.5025123128202577\n",
      "Episode 120000, average reward: -0.85\n",
      "Epsilon: 0.48076898113893324\n",
      "Episode 130000, average reward: -0.84\n",
      "Epsilon: 0.4608292446217717\n",
      "Episode 140000, average reward: -0.83\n",
      "Epsilon: 0.4424776294148803\n",
      "Episode 150000, average reward: -0.82\n",
      "Epsilon: 0.4255316704390087\n",
      "Episode 160000, average reward: -0.82\n",
      "Epsilon: 0.4098358237032064\n",
      "Episode 170000, average reward: -0.82\n",
      "Epsilon: 0.39525667796706637\n",
      "Episode 180000, average reward: -0.81\n",
      "Epsilon: 0.38167915331265395\n",
      "Episode 190000, average reward: -0.81\n",
      "Epsilon: 0.3690034571968477\n",
      "Episode 200000, average reward: -0.80\n",
      "Epsilon: 0.3571426275509384\n",
      "Episode 210000, average reward: -0.79\n",
      "Epsilon: 0.3460205349552024\n",
      "Episode 220000, average reward: -0.79\n",
      "Epsilon: 0.3355702468356533\n",
      "Episode 230000, average reward: -0.78\n",
      "Epsilon: 0.32573267939175227\n",
      "Episode 240000, average reward: -0.78\n",
      "Epsilon: 0.31645547989097467\n",
      "Episode 250000, average reward: -0.77\n",
      "Epsilon: 0.30769209467449066\n",
      "Episode 260000, average reward: -0.77\n",
      "Epsilon: 0.2994009878446071\n",
      "Episode 270000, average reward: -0.76\n",
      "Epsilon: 0.29154498295772097\n",
      "Episode 280000, average reward: -0.76\n",
      "Epsilon: 0.2840907057075868\n",
      "Episode 290000, average reward: -0.76\n",
      "Epsilon: 0.2770081099745457\n",
      "Episode 300000, average reward: -0.76\n",
      "Epsilon: 0.2702700730459657\n",
      "Episode 310000, average reward: -0.76\n",
      "Epsilon: 0.26385204850977534\n",
      "Episode 320000, average reward: -0.75\n",
      "Epsilon: 0.2577317674566411\n",
      "Episode 330000, average reward: -0.75\n",
      "Epsilon: 0.25188898032468016\n",
      "Episode 340000, average reward: -0.74\n",
      "Epsilon: 0.24630523308010668\n",
      "Episode 350000, average reward: -0.74\n",
      "Epsilon: 0.24096367252136688\n",
      "Episode 360000, average reward: -0.73\n",
      "Epsilon: 0.23584887637945198\n",
      "Episode 370000, average reward: -0.73\n",
      "Epsilon: 0.23094670460662925\n",
      "Episode 380000, average reward: -0.72\n",
      "Epsilon: 0.22624416883352236\n",
      "Episode 390000, average reward: -0.73\n",
      "Epsilon: 0.2217293174566114\n",
      "Episode 400000, average reward: -0.72\n",
      "Epsilon: 0.21739113421546397\n",
      "Episode 410000, average reward: -0.72\n",
      "Epsilon: 0.2132194484476436\n",
      "Episode 420000, average reward: -0.71\n",
      "Epsilon: 0.20920485548218734\n",
      "Episode 430000, average reward: -0.71\n",
      "Epsilon: 0.20533864586009154\n",
      "Episode 440000, average reward: -0.71\n",
      "Epsilon: 0.20161274226063353\n",
      "Episode 450000, average reward: -0.71\n",
      "Epsilon: 0.19801964317220658\n",
      "Episode 460000, average reward: -0.71\n",
      "Epsilon: 0.19455237248100632\n",
      "Episode 470000, average reward: -0.70\n",
      "Epsilon: 0.19120443426471018\n",
      "Episode 480000, average reward: -0.69\n",
      "Epsilon: 0.1879697721747692\n",
      "Episode 490000, average reward: -0.70\n",
      "Epsilon: 0.18484273287296357\n",
      "Episode 500000, average reward: -0.69\n",
      "Epsilon: 0.18181803305782418\n",
      "Episode 510000, average reward: -0.69\n",
      "Epsilon: 0.17889072967633804\n",
      "Episode 520000, average reward: -0.69\n",
      "Epsilon: 0.1760561929676396\n",
      "Episode 530000, average reward: -0.69\n",
      "Epsilon: 0.17331008202947695\n",
      "Episode 540000, average reward: -0.69\n",
      "Epsilon: 0.17064832263623253\n",
      "Episode 550000, average reward: -0.68\n",
      "Epsilon: 0.16806708707009868\n",
      "Episode 560000, average reward: -0.68\n",
      "Epsilon: 0.16556277575542644\n",
      "Episode 570000, average reward: -0.69\n",
      "Epsilon: 0.16313200051092994\n",
      "Episode 580000, average reward: -0.68\n",
      "Epsilon: 0.1607715692558793\n",
      "Episode 590000, average reward: -0.67\n",
      "Epsilon: 0.15847847202511442\n",
      "Episode 600000, average reward: -0.67\n",
      "Epsilon: 0.1562498681640419\n",
      "Episode 610000, average reward: -0.67\n",
      "Epsilon: 0.15408307458907158\n",
      "Episode 620000, average reward: -0.67\n",
      "Epsilon: 0.15197555501148252\n",
      "Episode 630000, average reward: -0.67\n",
      "Epsilon: 0.14992491003371963\n",
      "Episode 640000, average reward: -0.67\n",
      "Epsilon: 0.1479288680368148\n",
      "Episode 650000, average reward: -0.66\n",
      "Epsilon: 0.1459852767861718\n",
      "Episode 660000, average reward: -0.66\n",
      "Epsilon: 0.1440920956905037\n",
      "Episode 670000, average reward: -0.66\n",
      "Epsilon: 0.14224738865538958\n",
      "Episode 680000, average reward: -0.66\n",
      "Epsilon: 0.14044931747883674\n",
      "Episode 690000, average reward: -0.66\n",
      "Epsilon: 0.138696135741489\n",
      "Episode 700000, average reward: -0.66\n",
      "Epsilon: 0.1369861831487922\n",
      "Episode 710000, average reward: -0.64\n",
      "Epsilon: 0.1353178802865873\n",
      "Episode 720000, average reward: -0.65\n",
      "Epsilon: 0.13368972375531066\n",
      "Episode 730000, average reward: -0.64\n",
      "Epsilon: 0.13210028165129217\n",
      "Episode 740000, average reward: -0.66\n",
      "Epsilon: 0.13054818936660437\n",
      "Episode 750000, average reward: -0.65\n",
      "Epsilon: 0.12903214568156718\n",
      "Episode 760000, average reward: -0.65\n",
      "Epsilon: 0.12755090912639147\n",
      "Episode 770000, average reward: -0.65\n",
      "Epsilon: 0.1261032945905794\n",
      "Episode 780000, average reward: -0.64\n",
      "Epsilon: 0.12468817016061973\n",
      "Episode 790000, average reward: -0.64\n",
      "Epsilon: 0.12330445416824343\n",
      "Episode 800000, average reward: -0.64\n",
      "Epsilon: 0.12195111243306249\n",
      "Episode 810000, average reward: -0.63\n",
      "Epsilon: 0.12062715568481974\n",
      "Episode 820000, average reward: -0.64\n",
      "Epsilon: 0.11933163715174668\n",
      "Episode 830000, average reward: -0.63\n",
      "Epsilon: 0.11806365030267418\n",
      "Episode 840000, average reward: -0.63\n",
      "Epsilon: 0.11682232673158023\n",
      "Episode 850000, average reward: -0.64\n",
      "Epsilon: 0.11560683417420048\n",
      "Episode 860000, average reward: -0.63\n",
      "Epsilon: 0.11441637464718245\n",
      "Episode 870000, average reward: -0.64\n",
      "Epsilon: 0.11325018270103994\n",
      "Episode 880000, average reward: -0.63\n",
      "Epsilon: 0.11210752377887039\n",
      "Episode 890000, average reward: -0.63\n",
      "Epsilon: 0.1109876926734398\n",
      "Episode 900000, average reward: -0.63\n",
      "Epsilon: 0.10989001207582551\n",
      "Episode 910000, average reward: -0.63\n",
      "Epsilon: 0.10881383120933963\n",
      "Episode 920000, average reward: -0.63\n",
      "Epsilon: 0.10775852454294446\n",
      "Episode 930000, average reward: -0.63\n",
      "Epsilon: 0.10672349057881436\n",
      "Episode 940000, average reward: -0.64\n",
      "Epsilon: 0.10570815070910684\n",
      "Episode 950000, average reward: -0.63\n",
      "Epsilon: 0.10471194813737676\n",
      "Episode 960000, average reward: -0.63\n",
      "Epsilon: 0.10373434686040943\n",
      "Episode 970000, average reward: -0.63\n",
      "Epsilon: 0.1027748307065602\n",
      "Episode 980000, average reward: -0.63\n",
      "Epsilon: 0.1018329024269758\n",
      "Episode 990000, average reward: -0.62\n",
      "Epsilon: 0.1009080828363353\n"
     ]
    },
    {
     "data": {
      "image/png": "[encoded data removed]",
      "text/plain": [
       "<Figure size 640x480 with 1 Axes>"
      ]
     },
     "metadata": {},
     "output_type": "display_data"
    },
    {
     "name": "stdout",
     "output_type": "stream",
     "text": [
      "Saving Q-values to file...\n"
     ]
    }
   ],
   "source": [
    "# Run training against MinMax player\n",
    "qlearning.train(\n",
    "    episodes,\n",
    "    gamma=gamma,\n",
    "    alpha=alpha,\n",
    "    plot=True,\n",
    "    filename=\"scripts/q_values_mm.npy\",\n",
    "    opponent=mm.resulting_board,\n",
    ")\n"
   ]
  },
  {
   "cell_type": "markdown",
   "metadata": {},
   "source": [
    "## Playing"
   ]
  },
  {
   "cell_type": "markdown",
   "metadata": {},
   "source": [
    "To play against the trained agent, run `python3 runner.py -t Q`"
   ]
  },
  {
   "cell_type": "markdown",
   "metadata": {},
   "source": [
    "# Comparison"
   ]
  },
  {
   "cell_type": "code",
   "execution_count": 14,
   "metadata": {},
   "outputs": [],
   "source": [
    "def switch_player(player):\n",
    "    if player == ttt.X:\n",
    "        return ttt.O\n",
    "    else:\n",
    "        return ttt.X"
   ]
  },
  {
   "cell_type": "code",
   "execution_count": 25,
   "metadata": {},
   "outputs": [],
   "source": [
    "def combat(player1, player2, games, filename=\"scripts/q_values.npy\"):\n",
    "    won=0\n",
    "    loss=0\n",
    "    draw=0\n",
    "    for i in range(games):\n",
    "        # Winning rate against random player\n",
    "        ai = random.choice([ttt.X, ttt.O])\n",
    "        board=ttt.initial_state()\n",
    "        player=ttt.X\n",
    "        while not ttt.terminal(board):\n",
    "            if player==ai:\n",
    "                if player1==qlearning.play:\n",
    "                    move=qlearning.play(board,filename=filename)\n",
    "                else:\n",
    "                    move=player1(board)\n",
    "            else:\n",
    "                move=player2(board)\n",
    "            board=ttt.result(board,move)\n",
    "            player=switch_player(player)\n",
    "            \n",
    "        if ttt.winner(board)==ai:\n",
    "            won+=1\n",
    "        elif ttt.winner(board) is None:\n",
    "            draw+=1\n",
    "        else:\n",
    "            loss+=1\n",
    "            \n",
    "    print(\"Player 1 Lost games: {} %\".format(loss/games*100))\n",
    "    print(\"Player 1 Drawed games: {} %\".format(draw/games*100))\n",
    "    print(\"Player 1 Won games: {} %\".format(won/games*100))\n"
   ]
  },
  {
   "cell_type": "code",
   "execution_count": 23,
   "metadata": {},
   "outputs": [
    {
     "name": "stdout",
     "output_type": "stream",
     "text": [
      "Player 1 Lost games: 0.0 %\n",
      "Player 1 Drawed games: 9.9 %\n",
      "Player 1 Won games: 90.10000000000001 %\n"
     ]
    }
   ],
   "source": [
    "# MinMax vs Random\n",
    "games=1000\n",
    "\n",
    "player1=mm.play\n",
    "player2=ttt.random_move\n",
    "combat(player1, player2, games)"
   ]
  },
  {
   "cell_type": "code",
   "execution_count": 26,
   "metadata": {},
   "outputs": [
    {
     "name": "stdout",
     "output_type": "stream",
     "text": [
      "Player 1 Lost games: 4.0 %\n",
      "Player 1 Drawed games: 11.5 %\n",
      "Player 1 Won games: 84.5 %\n"
     ]
    }
   ],
   "source": [
    "# QLearning vs Random\n",
    "games=1000\n",
    "\n",
    "player1=qlearning.play\n",
    "player2=ttt.random_move\n",
    "combat(player1, player2, games)"
   ]
  },
  {
   "cell_type": "code",
   "execution_count": 27,
   "metadata": {},
   "outputs": [
    {
     "name": "stdout",
     "output_type": "stream",
     "text": [
      "Player 1 Lost games: 0.0 %\n",
      "Player 1 Drawed games: 52.400000000000006 %\n",
      "Player 1 Won games: 47.599999999999994 %\n"
     ]
    }
   ],
   "source": [
    "# MinMax vs QLearning (trained against random)\n",
    "games=1000\n",
    "\n",
    "player1=mm.play\n",
    "player2=qlearning.play\n",
    "combat(player1, player2, games)"
   ]
  },
  {
   "cell_type": "code",
   "execution_count": 30,
   "metadata": {},
   "outputs": [
    {
     "name": "stdout",
     "output_type": "stream",
     "text": [
      "Player 1 Lost games: 0.0 %\n",
      "Player 1 Drawed games: 50.1 %\n",
      "Player 1 Won games: 49.9 %\n"
     ]
    }
   ],
   "source": [
    "# MinMax vs QLearning (trained against minmax)\n",
    "games=1000\n",
    "\n",
    "player1=mm.play\n",
    "player2=qlearning.play\n",
    "combat(player1, player2, games, filename=\"scripts/q_values_mm.npy\")"
   ]
  },
  {
   "cell_type": "markdown",
   "metadata": {},
   "source": [
    "# Conclusions\n",
    "- The MinMax strategy is significantly better than the random and the Q-learning strategies, as expected.\n",
    "- The Q-learning strategy is better than the random strategy, demonstrating the usefulness of the reinforcement learning approach for scenarios where the optimal strategy is not known or where MinMax is unfeasible.\n",
    "- When trained against MinMax, the Q-learning strategy is better at playing against MinMax. Nevertheless, it is still worse than MinMax."
   ]
  }
 ],
 "metadata": {
  "kernelspec": {
   "display_name": "ci-fLJ3OwGs-py3.12",
   "language": "python",
   "name": "python3"
  },
  "language_info": {
   "codemirror_mode": {
    "name": "ipython",
    "version": 3
   },
   "file_extension": ".py",
   "mimetype": "text/x-python",
   "name": "python",
   "nbconvert_exporter": "python",
   "pygments_lexer": "ipython3",
   "version": "3.10.6"
  }
 },
 "nbformat": 4,
 "nbformat_minor": 2
}
