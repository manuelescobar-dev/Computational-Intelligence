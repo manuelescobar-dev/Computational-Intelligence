{
 "cells": [
  {
   "cell_type": "markdown",
   "metadata": {},
   "source": [
    "Copyright **`(c)`** 2023 Giovanni Squillero `<giovanni.squillero@polito.it>`  \n",
    "[`https://github.com/squillero/computational-intelligence`](https://github.com/squillero/computational-intelligence)  \n",
    "Free for personal or classroom use; see [`LICENSE.md`](https://github.com/squillero/computational-intelligence/blob/master/LICENSE.md) for details.  "
   ]
  },
  {
   "cell_type": "markdown",
   "metadata": {},
   "source": [
    "# LAB9\n",
    "\n",
    "Write a local-search algorithm (eg. an EA) able to solve the *Problem* instances 1, 2, 5, and 10 on a 1000-loci genomes, using a minimum number of fitness calls. That's all.\n",
    "\n",
    "### Deadlines:\n",
    "\n",
    "* Submission: Sunday, December 3 ([CET](https://www.timeanddate.com/time/zones/cet))\n",
    "* Reviews: Sunday, December 10 ([CET](https://www.timeanddate.com/time/zones/cet))\n",
    "\n",
    "Notes:\n",
    "\n",
    "* Reviews will be assigned  on Monday, December 4\n",
    "* You need to commit in order to be selected as a reviewer (ie. better to commit an empty work than not to commit)"
   ]
  },
  {
   "cell_type": "code",
   "execution_count": 251,
   "metadata": {},
   "outputs": [],
   "source": [
    "from random import choices\n",
    "from random import random, choice, randint\n",
    "import lab9_lib\n",
    "import math\n",
    "from time import sleep\n",
    "from functools import reduce\n",
    "from collections import namedtuple\n",
    "from dataclasses import dataclass\n",
    "from copy import copy\n",
    "import tqdm\n",
    "from pprint import pprint\n",
    "import numpy as np"
   ]
  },
  {
   "cell_type": "code",
   "execution_count": 252,
   "metadata": {},
   "outputs": [],
   "source": [
    "#Problem\n",
    "PROBLEM = 5\n",
    "FITNESS_FUNCTION = lab9_lib.make_problem(PROBLEM)\n",
    "\n",
    "class Individual():\n",
    "    def __init__(self, genotype: list[bool]) -> None:\n",
    "        self.genotype = genotype\n",
    "        self.fitness = FITNESS_FUNCTION(self.genotype)\n",
    "        \n",
    "    def __str__(self) -> str:\n",
    "        return f\"{''.join(str(g) for g in self.genotype)}: {self.fitness:.2%}\"#Evolutionary Algorithm"
   ]
  },
  {
   "cell_type": "markdown",
   "metadata": {},
   "source": [
    "# Evolutionary Algorithm Definition"
   ]
  },
  {
   "cell_type": "code",
   "execution_count": 253,
   "metadata": {},
   "outputs": [],
   "source": [
    "class EA():\n",
    "    def __init__(self, tournament_size, mutation_probability, genome_size, population_size,offspring_size, crossover=\"one_cut_xover\", mutation_strength=1, selection_type=\"tournament\") -> None:\n",
    "        self.tournament_size = tournament_size\n",
    "        self.mutation_probability = mutation_probability\n",
    "        self.genome_size = genome_size\n",
    "        self.population_size = population_size\n",
    "        self.offspring_size = offspring_size\n",
    "        self.mutation_strength = mutation_strength\n",
    "        self.selection_type = selection_type\n",
    "        # select crossover function\n",
    "        if crossover == \"one_cut_xover\":\n",
    "            self.crossover = self.one_cut_xover\n",
    "        elif crossover == \"n_cut_xover\":\n",
    "            self.crossover = self.n_cut_xover\n",
    "        elif crossover == \"uniform_xover\":\n",
    "            self.crossover = self.uniform_xover\n",
    "        else:\n",
    "            raise ValueError(\"Unknown crossover function\")\n",
    "    \n",
    "    def select_parent(self, population: list[Individual]) -> Individual:\n",
    "        if self.selection_type == \"tournament\":\n",
    "            return self.tournament(population)\n",
    "        elif self.selection_type == \"roulette\":\n",
    "            return self.roulette(population)\n",
    "        \n",
    "    def tournament(self, population: list[Individual]) -> Individual:\n",
    "        pool = [choice(population) for _ in range(self.tournament_size)]\n",
    "        champion = max(pool, key=lambda i: i.fitness)\n",
    "        return champion\n",
    "    \n",
    "    def roulette(self, population: list[Individual]) -> Individual:\n",
    "        fitnesses = [i.fitness for i in population]\n",
    "        total_fitness = sum(fitnesses)\n",
    "        probabilities = [f/total_fitness for f in fitnesses]\n",
    "        return choices(population, weights=probabilities)[0]\n",
    "\n",
    "    def mutate(self, ind: Individual) -> Individual:\n",
    "        offspring_genotype = copy(ind.genotype)\n",
    "        for i in range(self.mutation_strength):\n",
    "            pos = randint(0, self.genome_size-1)\n",
    "            offspring_genotype[pos] = 1 - offspring_genotype[pos]\n",
    "        return Individual(offspring_genotype)\n",
    "\n",
    "    def one_cut_xover(self, ind1: Individual, ind2: Individual) -> Individual:\n",
    "        cut_point = randint(0, self.genome_size-1)\n",
    "        offspring = Individual(genotype=ind1.genotype[:cut_point] + ind2.genotype[cut_point:])\n",
    "        assert len(offspring.genotype) == self.genome_size\n",
    "        return offspring\n",
    "    \n",
    "    def n_cut_xover(self, ind1: Individual, ind2: Individual, n=5) -> Individual:\n",
    "        cut_points = sorted([randint(0, self.genome_size-1) for _ in range(n)])\n",
    "        o_genotype = []\n",
    "        pointer=0\n",
    "        for point in cut_points:\n",
    "            o_genotype += ind1.genotype[pointer:point]\n",
    "            pointer=point\n",
    "            ind1, ind2 = ind2, ind1\n",
    "        offspring = Individual(genotype=o_genotype + ind1.genotype[pointer:])\n",
    "        assert len(offspring.genotype) == self.genome_size\n",
    "        return offspring\n",
    "    \n",
    "    def uniform_xover(self, ind1: Individual, ind2: Individual) -> Individual:\n",
    "        offspring = Individual(genotype=[choice([ind1.genotype[i], ind2.genotype[i]]) for i in range(self.genome_size)])\n",
    "        assert len(offspring.genotype) == self.genome_size\n",
    "        return offspring\n",
    "\n",
    "    def population(self):\n",
    "        return [Individual(choices([0, 1], k=self.genome_size)) for _ in range(self.population_size)]\n",
    "\n",
    "    def offsprings(self, population: list[Individual], parents=2) -> list[Individual]:\n",
    "        offspring = []\n",
    "            \n",
    "        while len(offspring) < self.offspring_size:\n",
    "            # Mutation\n",
    "            if random() < self.mutation_probability:\n",
    "                parent=self.select_parent(population)\n",
    "                #print(f\"p: {parent}\")\n",
    "                o=self.mutate(parent)\n",
    "                #print(f\"o: {o}\")\n",
    "                \n",
    "            # Crossover\n",
    "            else:\n",
    "                parent1 = self.select_parent(population)\n",
    "                #print(f\"p1: {parent1}\")\n",
    "                parent2 = self.select_parent(population)\n",
    "                #print(f\"p2: {parent2}\")\n",
    "                o=self.crossover(parent1, parent2)\n",
    "                #print(f\"of: {o}\")\n",
    "            offspring.append(o)\n",
    "        return offspring\n",
    "\n",
    "\n",
    "    def generation(self, population: list[Individual], elitism_factor=1) -> list[Individual]:\n",
    "        pool = sorted(population + self.offsprings(population), key=lambda i: i.fitness, reverse=True)\n",
    "        return pool[:int(self.population_size*elitism_factor)]+choices(pool[int(self.population_size*elitism_factor):], k=int(self.population_size*(1-elitism_factor)))\n",
    "    \n",
    "    def run(self, n_generations: int, adaptive_mutation=False, elitism_factor=1) -> Individual:\n",
    "        population = self.population()\n",
    "        pbar = tqdm.trange(n_generations, unit=\"Generations\")\n",
    "        best_fitness=0\n",
    "        for i in pbar:\n",
    "            population = self.generation(population, elitism_factor=elitism_factor)\n",
    "            prev_fitness=best_fitness\n",
    "            best_fitness=population[0].fitness\n",
    "            if adaptive_mutation:\n",
    "                if best_fitness-prev_fitness==0 and self.mutation_probability<0.8:\n",
    "                    self.mutation_probability=self.mutation_probability*1.1\n",
    "                elif best_fitness-prev_fitness>0 and self.mutation_probability>0.01:\n",
    "                    self.mutation_probability=self.mutation_probability*0.9\n",
    "            #print([str(j.fitness) for j in population])\n",
    "            #pbar.set_postfix({\"best_fitness\": best_fitness, \"fitness_calls\":FITNESS_FUNCTION.calls, \"best_individual\": str(population[0])})\n",
    "            pbar.set_postfix({\"best_fitness\": best_fitness, \"fitness_calls\":FITNESS_FUNCTION.calls, \"mutation_rate\":self.mutation_probability})\n",
    "            if best_fitness== 1.0:\n",
    "                break\n",
    "        pbar.close()\n",
    "        return population[0]"
   ]
  },
  {
   "cell_type": "markdown",
   "metadata": {},
   "source": [
    "# Search"
   ]
  },
  {
   "cell_type": "code",
   "execution_count": 254,
   "metadata": {},
   "outputs": [],
   "source": [
    "  \n",
    "POPULATION_SIZE = 20\n",
    "OFFSPRING_SIZE = 10\n",
    "TOURNAMENT_SIZE = POPULATION_SIZE//5\n",
    "MUTATION_PROBABILITY = .1\n",
    "GENOME_SIZE = 1000\n",
    "MUTATION_STRENGTH=1\n",
    "GENERATIONS=100000\n",
    "ADAPTIVE_MUTATION=True\n",
    "SELECTION_TYPE=\"tournament\"\n",
    "ELITISM_FACTOR=0.8\n",
    "#CROSSOVER=\"one_cut_xover\"\n",
    "#CROSSOVER=\"n_cut_xover\"\n",
    "CROSSOVER=\"uniform_xover\""
   ]
  },
  {
   "cell_type": "code",
   "execution_count": 255,
   "metadata": {},
   "outputs": [
    {
     "name": "stderr",
     "output_type": "stream",
     "text": [
      "  6%|▋         | 6451/100000 [00:08<02:08, 726.57Generations/s, best_fitness=0.232, fitness_calls=64530, mutation_rate=0.822]\n"
     ]
    },
    {
     "ename": "KeyboardInterrupt",
     "evalue": "",
     "output_type": "error",
     "traceback": [
      "\u001b[0;31m---------------------------------------------------------------------------\u001b[0m",
      "\u001b[0;31mKeyboardInterrupt\u001b[0m                         Traceback (most recent call last)",
      "\u001b[1;32m/Users/manuelescobar/Documents/POLITO/2023-2/CI/Computational-Intelligence/labs/lab9/lab92.ipynb Cell 9\u001b[0m line \u001b[0;36m3\n\u001b[1;32m      <a href='vscode-notebook-cell:/Users/manuelescobar/Documents/POLITO/2023-2/CI/Computational-Intelligence/labs/lab9/lab92.ipynb#X23sZmlsZQ%3D%3D?line=0'>1</a>\u001b[0m FITNESS_FUNCTION\u001b[39m.\u001b[39m_calls\u001b[39m=\u001b[39m\u001b[39m0\u001b[39m\n\u001b[1;32m      <a href='vscode-notebook-cell:/Users/manuelescobar/Documents/POLITO/2023-2/CI/Computational-Intelligence/labs/lab9/lab92.ipynb#X23sZmlsZQ%3D%3D?line=1'>2</a>\u001b[0m evolutionary_algorithm \u001b[39m=\u001b[39m EA(TOURNAMENT_SIZE, MUTATION_PROBABILITY, GENOME_SIZE, POPULATION_SIZE, OFFSPRING_SIZE, crossover\u001b[39m=\u001b[39mCROSSOVER, mutation_strength\u001b[39m=\u001b[39mMUTATION_STRENGTH)\n\u001b[0;32m----> <a href='vscode-notebook-cell:/Users/manuelescobar/Documents/POLITO/2023-2/CI/Computational-Intelligence/labs/lab9/lab92.ipynb#X23sZmlsZQ%3D%3D?line=2'>3</a>\u001b[0m best_individual \u001b[39m=\u001b[39m evolutionary_algorithm\u001b[39m.\u001b[39;49mrun(GENERATIONS, adaptive_mutation\u001b[39m=\u001b[39;49mADAPTIVE_MUTATION, elitism_factor\u001b[39m=\u001b[39;49mELITISM_FACTOR)\n",
      "\u001b[1;32m/Users/manuelescobar/Documents/POLITO/2023-2/CI/Computational-Intelligence/labs/lab9/lab92.ipynb Cell 9\u001b[0m line \u001b[0;36m1\n\u001b[1;32m    <a href='vscode-notebook-cell:/Users/manuelescobar/Documents/POLITO/2023-2/CI/Computational-Intelligence/labs/lab9/lab92.ipynb#X23sZmlsZQ%3D%3D?line=99'>100</a>\u001b[0m best_fitness\u001b[39m=\u001b[39m\u001b[39m0\u001b[39m\n\u001b[1;32m    <a href='vscode-notebook-cell:/Users/manuelescobar/Documents/POLITO/2023-2/CI/Computational-Intelligence/labs/lab9/lab92.ipynb#X23sZmlsZQ%3D%3D?line=100'>101</a>\u001b[0m \u001b[39mfor\u001b[39;00m i \u001b[39min\u001b[39;00m pbar:\n\u001b[0;32m--> <a href='vscode-notebook-cell:/Users/manuelescobar/Documents/POLITO/2023-2/CI/Computational-Intelligence/labs/lab9/lab92.ipynb#X23sZmlsZQ%3D%3D?line=101'>102</a>\u001b[0m     population \u001b[39m=\u001b[39m \u001b[39mself\u001b[39;49m\u001b[39m.\u001b[39;49mgeneration(population, elitism_factor\u001b[39m=\u001b[39;49melitism_factor)\n\u001b[1;32m    <a href='vscode-notebook-cell:/Users/manuelescobar/Documents/POLITO/2023-2/CI/Computational-Intelligence/labs/lab9/lab92.ipynb#X23sZmlsZQ%3D%3D?line=102'>103</a>\u001b[0m     prev_fitness\u001b[39m=\u001b[39mbest_fitness\n\u001b[1;32m    <a href='vscode-notebook-cell:/Users/manuelescobar/Documents/POLITO/2023-2/CI/Computational-Intelligence/labs/lab9/lab92.ipynb#X23sZmlsZQ%3D%3D?line=103'>104</a>\u001b[0m     best_fitness\u001b[39m=\u001b[39mpopulation[\u001b[39m0\u001b[39m]\u001b[39m.\u001b[39mfitness\n",
      "\u001b[1;32m/Users/manuelescobar/Documents/POLITO/2023-2/CI/Computational-Intelligence/labs/lab9/lab92.ipynb Cell 9\u001b[0m line \u001b[0;36m9\n\u001b[1;32m     <a href='vscode-notebook-cell:/Users/manuelescobar/Documents/POLITO/2023-2/CI/Computational-Intelligence/labs/lab9/lab92.ipynb#X23sZmlsZQ%3D%3D?line=92'>93</a>\u001b[0m \u001b[39mdef\u001b[39;00m \u001b[39mgeneration\u001b[39m(\u001b[39mself\u001b[39m, population: \u001b[39mlist\u001b[39m[Individual], elitism_factor\u001b[39m=\u001b[39m\u001b[39m1\u001b[39m) \u001b[39m-\u001b[39m\u001b[39m>\u001b[39m \u001b[39mlist\u001b[39m[Individual]:\n\u001b[0;32m---> <a href='vscode-notebook-cell:/Users/manuelescobar/Documents/POLITO/2023-2/CI/Computational-Intelligence/labs/lab9/lab92.ipynb#X23sZmlsZQ%3D%3D?line=93'>94</a>\u001b[0m     pool \u001b[39m=\u001b[39m \u001b[39msorted\u001b[39m(population \u001b[39m+\u001b[39m \u001b[39mself\u001b[39;49m\u001b[39m.\u001b[39;49moffsprings(population), key\u001b[39m=\u001b[39m\u001b[39mlambda\u001b[39;00m i: i\u001b[39m.\u001b[39mfitness, reverse\u001b[39m=\u001b[39m\u001b[39mTrue\u001b[39;00m)\n\u001b[1;32m     <a href='vscode-notebook-cell:/Users/manuelescobar/Documents/POLITO/2023-2/CI/Computational-Intelligence/labs/lab9/lab92.ipynb#X23sZmlsZQ%3D%3D?line=94'>95</a>\u001b[0m     \u001b[39mreturn\u001b[39;00m pool[:\u001b[39mint\u001b[39m(\u001b[39mself\u001b[39m\u001b[39m.\u001b[39mpopulation_size\u001b[39m*\u001b[39melitism_factor)]\u001b[39m+\u001b[39mchoices(pool[\u001b[39mint\u001b[39m(\u001b[39mself\u001b[39m\u001b[39m.\u001b[39mpopulation_size\u001b[39m*\u001b[39melitism_factor):], k\u001b[39m=\u001b[39m\u001b[39mint\u001b[39m(\u001b[39mself\u001b[39m\u001b[39m.\u001b[39mpopulation_size\u001b[39m*\u001b[39m(\u001b[39m1\u001b[39m\u001b[39m-\u001b[39melitism_factor)))\n",
      "\u001b[1;32m/Users/manuelescobar/Documents/POLITO/2023-2/CI/Computational-Intelligence/labs/lab9/lab92.ipynb Cell 9\u001b[0m line \u001b[0;36m8\n\u001b[1;32m     <a href='vscode-notebook-cell:/Users/manuelescobar/Documents/POLITO/2023-2/CI/Computational-Intelligence/labs/lab9/lab92.ipynb#X23sZmlsZQ%3D%3D?line=84'>85</a>\u001b[0m     parent2 \u001b[39m=\u001b[39m \u001b[39mself\u001b[39m\u001b[39m.\u001b[39mselect_parent(population)\n\u001b[1;32m     <a href='vscode-notebook-cell:/Users/manuelescobar/Documents/POLITO/2023-2/CI/Computational-Intelligence/labs/lab9/lab92.ipynb#X23sZmlsZQ%3D%3D?line=85'>86</a>\u001b[0m     \u001b[39m#print(f\"p2: {parent2}\")\u001b[39;00m\n\u001b[0;32m---> <a href='vscode-notebook-cell:/Users/manuelescobar/Documents/POLITO/2023-2/CI/Computational-Intelligence/labs/lab9/lab92.ipynb#X23sZmlsZQ%3D%3D?line=86'>87</a>\u001b[0m     o\u001b[39m=\u001b[39m\u001b[39mself\u001b[39;49m\u001b[39m.\u001b[39;49mcrossover(parent1, parent2)\n\u001b[1;32m     <a href='vscode-notebook-cell:/Users/manuelescobar/Documents/POLITO/2023-2/CI/Computational-Intelligence/labs/lab9/lab92.ipynb#X23sZmlsZQ%3D%3D?line=87'>88</a>\u001b[0m     \u001b[39m#print(f\"of: {o}\")\u001b[39;00m\n\u001b[1;32m     <a href='vscode-notebook-cell:/Users/manuelescobar/Documents/POLITO/2023-2/CI/Computational-Intelligence/labs/lab9/lab92.ipynb#X23sZmlsZQ%3D%3D?line=88'>89</a>\u001b[0m offspring\u001b[39m.\u001b[39mappend(o)\n",
      "\u001b[1;32m/Users/manuelescobar/Documents/POLITO/2023-2/CI/Computational-Intelligence/labs/lab9/lab92.ipynb Cell 9\u001b[0m line \u001b[0;36m6\n\u001b[1;32m     <a href='vscode-notebook-cell:/Users/manuelescobar/Documents/POLITO/2023-2/CI/Computational-Intelligence/labs/lab9/lab92.ipynb#X23sZmlsZQ%3D%3D?line=61'>62</a>\u001b[0m \u001b[39mdef\u001b[39;00m \u001b[39muniform_xover\u001b[39m(\u001b[39mself\u001b[39m, ind1: Individual, ind2: Individual) \u001b[39m-\u001b[39m\u001b[39m>\u001b[39m Individual:\n\u001b[0;32m---> <a href='vscode-notebook-cell:/Users/manuelescobar/Documents/POLITO/2023-2/CI/Computational-Intelligence/labs/lab9/lab92.ipynb#X23sZmlsZQ%3D%3D?line=62'>63</a>\u001b[0m     offspring \u001b[39m=\u001b[39m Individual(genotype\u001b[39m=\u001b[39m[choice([ind1\u001b[39m.\u001b[39mgenotype[i], ind2\u001b[39m.\u001b[39mgenotype[i]]) \u001b[39mfor\u001b[39;00m i \u001b[39min\u001b[39;00m \u001b[39mrange\u001b[39m(\u001b[39mself\u001b[39m\u001b[39m.\u001b[39mgenome_size)])\n\u001b[1;32m     <a href='vscode-notebook-cell:/Users/manuelescobar/Documents/POLITO/2023-2/CI/Computational-Intelligence/labs/lab9/lab92.ipynb#X23sZmlsZQ%3D%3D?line=63'>64</a>\u001b[0m     \u001b[39massert\u001b[39;00m \u001b[39mlen\u001b[39m(offspring\u001b[39m.\u001b[39mgenotype) \u001b[39m==\u001b[39m \u001b[39mself\u001b[39m\u001b[39m.\u001b[39mgenome_size\n\u001b[1;32m     <a href='vscode-notebook-cell:/Users/manuelescobar/Documents/POLITO/2023-2/CI/Computational-Intelligence/labs/lab9/lab92.ipynb#X23sZmlsZQ%3D%3D?line=64'>65</a>\u001b[0m     \u001b[39mreturn\u001b[39;00m offspring\n",
      "\u001b[1;32m/Users/manuelescobar/Documents/POLITO/2023-2/CI/Computational-Intelligence/labs/lab9/lab92.ipynb Cell 9\u001b[0m line \u001b[0;36m6\n\u001b[1;32m     <a href='vscode-notebook-cell:/Users/manuelescobar/Documents/POLITO/2023-2/CI/Computational-Intelligence/labs/lab9/lab92.ipynb#X23sZmlsZQ%3D%3D?line=61'>62</a>\u001b[0m \u001b[39mdef\u001b[39;00m \u001b[39muniform_xover\u001b[39m(\u001b[39mself\u001b[39m, ind1: Individual, ind2: Individual) \u001b[39m-\u001b[39m\u001b[39m>\u001b[39m Individual:\n\u001b[0;32m---> <a href='vscode-notebook-cell:/Users/manuelescobar/Documents/POLITO/2023-2/CI/Computational-Intelligence/labs/lab9/lab92.ipynb#X23sZmlsZQ%3D%3D?line=62'>63</a>\u001b[0m     offspring \u001b[39m=\u001b[39m Individual(genotype\u001b[39m=\u001b[39m[choice([ind1\u001b[39m.\u001b[39;49mgenotype[i], ind2\u001b[39m.\u001b[39;49mgenotype[i]]) \u001b[39mfor\u001b[39;00m i \u001b[39min\u001b[39;00m \u001b[39mrange\u001b[39m(\u001b[39mself\u001b[39m\u001b[39m.\u001b[39mgenome_size)])\n\u001b[1;32m     <a href='vscode-notebook-cell:/Users/manuelescobar/Documents/POLITO/2023-2/CI/Computational-Intelligence/labs/lab9/lab92.ipynb#X23sZmlsZQ%3D%3D?line=63'>64</a>\u001b[0m     \u001b[39massert\u001b[39;00m \u001b[39mlen\u001b[39m(offspring\u001b[39m.\u001b[39mgenotype) \u001b[39m==\u001b[39m \u001b[39mself\u001b[39m\u001b[39m.\u001b[39mgenome_size\n\u001b[1;32m     <a href='vscode-notebook-cell:/Users/manuelescobar/Documents/POLITO/2023-2/CI/Computational-Intelligence/labs/lab9/lab92.ipynb#X23sZmlsZQ%3D%3D?line=64'>65</a>\u001b[0m     \u001b[39mreturn\u001b[39;00m offspring\n",
      "File \u001b[0;32m/Library/Frameworks/Python.framework/Versions/3.10/lib/python3.10/random.py:378\u001b[0m, in \u001b[0;36mRandom.choice\u001b[0;34m(self, seq)\u001b[0m\n\u001b[1;32m    376\u001b[0m \u001b[39m\u001b[39m\u001b[39m\"\"\"Choose a random element from a non-empty sequence.\"\"\"\u001b[39;00m\n\u001b[1;32m    377\u001b[0m \u001b[39m# raises IndexError if seq is empty\u001b[39;00m\n\u001b[0;32m--> 378\u001b[0m \u001b[39mreturn\u001b[39;00m seq[\u001b[39mself\u001b[39;49m\u001b[39m.\u001b[39;49m_randbelow(\u001b[39mlen\u001b[39;49m(seq))]\n",
      "\u001b[0;31mKeyboardInterrupt\u001b[0m: "
     ]
    }
   ],
   "source": [
    "FITNESS_FUNCTION._calls=0\n",
    "evolutionary_algorithm = EA(TOURNAMENT_SIZE, MUTATION_PROBABILITY, GENOME_SIZE, POPULATION_SIZE, OFFSPRING_SIZE, crossover=CROSSOVER, mutation_strength=MUTATION_STRENGTH)\n",
    "best_individual = evolutionary_algorithm.run(GENERATIONS, adaptive_mutation=ADAPTIVE_MUTATION, elitism_factor=ELITISM_FACTOR)"
   ]
  }
 ],
 "metadata": {
  "kernelspec": {
   "display_name": "ci-fLJ3OwGs-py3.12",
   "language": "python",
   "name": "python3"
  },
  "language_info": {
   "codemirror_mode": {
    "name": "ipython",
    "version": 3
   },
   "file_extension": ".py",
   "mimetype": "text/x-python",
   "name": "python",
   "nbconvert_exporter": "python",
   "pygments_lexer": "ipython3",
   "version": "3.10.6"
  }
 },
 "nbformat": 4,
 "nbformat_minor": 2
}
