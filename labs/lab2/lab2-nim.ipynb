{
 "cells": [
  {
   "cell_type": "markdown",
   "metadata": {
    "pycharm": {
     "name": "#%% md\n"
    }
   },
   "source": [
    "Copyright **`(c)`** 2022 Giovanni Squillero `<squillero@polito.it>`  \n",
    "[`https://github.com/squillero/computational-intelligence`](https://github.com/squillero/computational-intelligence)  \n",
    "Free for personal or classroom use; see [`LICENSE.md`](https://github.com/squillero/computational-intelligence/blob/master/LICENSE.md) for details.  \n"
   ]
  },
  {
   "cell_type": "markdown",
   "metadata": {
    "pycharm": {
     "name": "#%%\n"
    }
   },
   "source": [
    "# Lab 3: ES\n",
    "\n",
    "## Task\n",
    "\n",
    "Write agents able to play [*Nim*](https://en.wikipedia.org/wiki/Nim), with an arbitrary number of rows and an upper bound $k$ on the number of objects that can be removed in a turn (a.k.a., *subtraction game*).\n",
    "\n",
    "The goal of the game is to **avoid** taking the last object.\n",
    "\n",
    "* Task2.1: An agent using fixed rules based on *nim-sum* (i.e., an *expert system*)\n",
    "* Task2.2: An agent using evolved rules using ES\n",
    "\n",
    "## Instructions\n",
    "\n",
    "* Create the directory `lab2` inside your personal course repository for the course \n",
    "* Put a `README.md` and your solution (all the files, code and auxiliary data if needed)\n",
    "\n",
    "## Notes\n",
    "\n",
    "* Working in group is not only allowed, but recommended (see: [Ubuntu](https://en.wikipedia.org/wiki/Ubuntu_philosophy) and [Cooperative Learning](https://files.eric.ed.gov/fulltext/EJ1096789.pdf)). Collaborations must be explicitly declared in the `README.md`.\n",
    "* [Yanking](https://www.emacswiki.org/emacs/KillingAndYanking) from the internet is allowed, but sources must be explicitly declared in the `README.md`.\n",
    "\n"
   ]
  },
  {
   "cell_type": "code",
   "execution_count": 287,
   "metadata": {},
   "outputs": [],
   "source": [
    "import logging\n",
    "from pprint import pprint, pformat\n",
    "from collections import namedtuple\n",
    "import random\n",
    "from copy import deepcopy\n"
   ]
  },
  {
   "cell_type": "markdown",
   "metadata": {},
   "source": [
    "## The *Nim* and *Nimply* classes"
   ]
  },
  {
   "cell_type": "code",
   "execution_count": 288,
   "metadata": {},
   "outputs": [],
   "source": [
    "Nimply = namedtuple(\"Nimply\", \"row, num_objects\")\n"
   ]
  },
  {
   "cell_type": "code",
   "execution_count": 289,
   "metadata": {},
   "outputs": [],
   "source": [
    "class Nim:\n",
    "    def __init__(self, num_rows: int, k: int = None) -> None:\n",
    "        self._rows = [i * 2 + 1 for i in range(num_rows)]\n",
    "        self._k = k\n",
    "\n",
    "    def __bool__(self):\n",
    "        return sum(self._rows) > 0\n",
    "\n",
    "    def __str__(self):\n",
    "        return \"<\" + \" \".join(str(_) for _ in self._rows) + \">\"\n",
    "\n",
    "    @property\n",
    "    def rows(self) -> tuple:\n",
    "        return tuple(self._rows)\n",
    "\n",
    "    def nimming(self, ply: Nimply) -> None:\n",
    "        row, num_objects = ply\n",
    "        assert self._rows[row] >= num_objects\n",
    "        assert self._k is None or num_objects <= self._k\n",
    "        self._rows[row] -= num_objects\n"
   ]
  },
  {
   "cell_type": "markdown",
   "metadata": {},
   "source": [
    "## Sample (and silly) startegies "
   ]
  },
  {
   "cell_type": "code",
   "execution_count": 290,
   "metadata": {},
   "outputs": [],
   "source": [
    "def pure_random(state: Nim) -> Nimply:\n",
    "    \"\"\"A completely random move\"\"\"\n",
    "    row = random.choice([r for r, c in enumerate(state.rows) if c > 0])\n",
    "    num_objects = random.randint(1, state.rows[row])\n",
    "    return Nimply(row, num_objects)\n"
   ]
  },
  {
   "cell_type": "code",
   "execution_count": 291,
   "metadata": {},
   "outputs": [],
   "source": [
    "def gabriele(state: Nim) -> Nimply:\n",
    "    \"\"\"Pick always the maximum possible number of the lowest row\"\"\"\n",
    "    possible_moves = [(r, o) for r, c in enumerate(state.rows) for o in range(1, c + 1)]\n",
    "    return Nimply(*max(possible_moves, key=lambda m: (-m[0], m[1])))\n"
   ]
  },
  {
   "cell_type": "code",
   "execution_count": 292,
   "metadata": {},
   "outputs": [],
   "source": [
    "def adaptive(state: Nim) -> Nimply:\n",
    "    \"\"\"A strategy that can adapt its parameters\"\"\"\n",
    "    sigma=(0.5,0.5)\n",
    "    row = [r for r, c in enumerate(state.rows) if c > 0][random.gauss(0,sigma)]\n",
    "    num_objects = random.randint(1, state.rows[row])\n",
    "    return Nimply(row, num_objects)\n"
   ]
  },
  {
   "cell_type": "code",
   "execution_count": 293,
   "metadata": {},
   "outputs": [],
   "source": [
    "import numpy as np\n",
    "\n",
    "\n",
    "def nim_sum(state: Nim) -> int:\n",
    "    tmp = np.array([tuple(int(x) for x in f\"{c:032b}\") for c in state.rows])\n",
    "    xor = tmp.sum(axis=0) % 2\n",
    "    return int(\"\".join(str(_) for _ in xor), base=2)\n",
    "\n",
    "\n",
    "def analize(raw: Nim) -> dict:\n",
    "    cooked = dict()\n",
    "    cooked[\"possible_moves\"] = dict()\n",
    "    for ply in (Nimply(r, o) for r, c in enumerate(raw.rows) for o in range(1, c + 1)):\n",
    "        tmp = deepcopy(raw)\n",
    "        tmp.nimming(ply)\n",
    "        cooked[\"possible_moves\"][ply] = nim_sum(tmp)\n",
    "    print(cooked)\n",
    "    return cooked\n",
    "\n",
    "\n",
    "def optimal(state: Nim) -> Nimply:\n",
    "    analysis = analize(state)\n",
    "    logging.debug(f\"analysis:\\n{pformat(analysis)}\")\n",
    "    spicy_moves = [ply for ply, ns in analysis[\"possible_moves\"].items() if ns != 0]\n",
    "    if not spicy_moves:\n",
    "        spicy_moves = list(analysis[\"possible_moves\"].keys())\n",
    "    ply = random.choice(spicy_moves)\n",
    "    return ply\n"
   ]
  },
  {
   "cell_type": "code",
   "execution_count": 294,
   "metadata": {},
   "outputs": [],
   "source": [
    "from numpy import argsort\n",
    "\n",
    "\n",
    "def possible_moves(state: Nim):\n",
    "    return [Nimply(r, o) for r, c in enumerate(state.rows) for o in range(1, c + 1)]\n",
    "\n",
    "def fitness(state:Nim):\n",
    "    return -nim_sum(state)\n",
    "\n",
    "def ES(state: Nim, mu=10, l=50, n_iter=100):\n",
    "    best, best_eval = None, float(\"inf\")\n",
    "    n_children = int(l / mu)\n",
    "\n",
    "    # Population\n",
    "    population=[]\n",
    "    for r,c in enumerate(state.rows):\n",
    "        if c>=1:\n",
    "            population.append(Nimply(r,random.randint(1,c)))\n",
    "    \n",
    "    # perform the search\n",
    "    for epoch in range(n_iter):\n",
    "        # evaluate fitness for the population\n",
    "        scores=[]\n",
    "        for c in population:\n",
    "            tmp = deepcopy(state)\n",
    "            tmp.nimming(c)\n",
    "            scores.append(fitness(tmp))\n",
    "        ranks = argsort(argsort(scores))\n",
    "        selected = [i for i,_ in enumerate(ranks) if ranks[i] < mu]\n",
    "        # create children from parents\n",
    "        children = list()\n",
    "        for i in selected:\n",
    "\t\t\t# check if this parent is the best solution ever seen\n",
    "            if scores[i] < best_eval:\n",
    "                best, best_eval = population[i], scores[i]\n",
    "                #print('%d, Best: f(%s) = %.5f' % (epoch, best, best_eval))\n",
    "\t\t\t# create children for parent\n",
    "            for _ in range(n_children):\n",
    "                child = None\n",
    "                while child is None:\n",
    "                    child = Nimply(population[i][0],random.randint(1,state.rows[population[i][0]]))\n",
    "                    children.append(child)\n",
    "\t\t# replace population with children\n",
    "        population = children\n",
    "    return best"
   ]
  },
  {
   "cell_type": "markdown",
   "metadata": {},
   "source": [
    "## Oversimplified match"
   ]
  },
  {
   "cell_type": "code",
   "execution_count": 297,
   "metadata": {},
   "outputs": [
    {
     "name": "stderr",
     "output_type": "stream",
     "text": [
      "INFO:root:init : <1 3 5 7 9 11 13 15 17 19>\n",
      "INFO:root:ply: player 0 plays Nimply(row=5, num_objects=11)\n",
      "INFO:root:status: <1 3 5 7 9 0 13 15 17 19>\n",
      "INFO:root:ply: player 1 plays Nimply(row=9, num_objects=14)\n",
      "INFO:root:status: <1 3 5 7 9 0 13 15 17 5>\n",
      "INFO:root:ply: player 0 plays Nimply(row=3, num_objects=4)\n",
      "INFO:root:status: <1 3 5 3 9 0 13 15 17 5>\n",
      "INFO:root:ply: player 1 plays Nimply(row=2, num_objects=4)\n",
      "INFO:root:status: <1 3 1 3 9 0 13 15 17 5>\n",
      "INFO:root:ply: player 0 plays Nimply(row=9, num_objects=5)\n",
      "INFO:root:status: <1 3 1 3 9 0 13 15 17 0>\n",
      "INFO:root:ply: player 1 plays Nimply(row=7, num_objects=5)\n",
      "INFO:root:status: <1 3 1 3 9 0 13 10 17 0>\n",
      "INFO:root:ply: player 0 plays Nimply(row=2, num_objects=1)\n",
      "INFO:root:status: <1 3 0 3 9 0 13 10 17 0>\n",
      "INFO:root:ply: player 1 plays Nimply(row=0, num_objects=1)\n",
      "INFO:root:status: <0 3 0 3 9 0 13 10 17 0>\n",
      "INFO:root:ply: player 0 plays Nimply(row=7, num_objects=3)\n",
      "INFO:root:status: <0 3 0 3 9 0 13 7 17 0>\n",
      "INFO:root:ply: player 1 plays Nimply(row=4, num_objects=5)\n",
      "INFO:root:status: <0 3 0 3 4 0 13 7 17 0>\n",
      "INFO:root:ply: player 0 plays Nimply(row=6, num_objects=2)\n",
      "INFO:root:status: <0 3 0 3 4 0 11 7 17 0>\n",
      "INFO:root:ply: player 1 plays Nimply(row=7, num_objects=6)\n",
      "INFO:root:status: <0 3 0 3 4 0 11 1 17 0>\n",
      "INFO:root:ply: player 0 plays Nimply(row=4, num_objects=2)\n",
      "INFO:root:status: <0 3 0 3 2 0 11 1 17 0>\n",
      "INFO:root:ply: player 1 plays Nimply(row=1, num_objects=2)\n",
      "INFO:root:status: <0 1 0 3 2 0 11 1 17 0>\n",
      "INFO:root:ply: player 0 plays Nimply(row=7, num_objects=1)\n",
      "INFO:root:status: <0 1 0 3 2 0 11 0 17 0>\n",
      "INFO:root:ply: player 1 plays Nimply(row=1, num_objects=1)\n",
      "INFO:root:status: <0 0 0 3 2 0 11 0 17 0>\n",
      "INFO:root:ply: player 0 plays Nimply(row=6, num_objects=2)\n",
      "INFO:root:status: <0 0 0 3 2 0 9 0 17 0>\n",
      "INFO:root:ply: player 1 plays Nimply(row=4, num_objects=2)\n",
      "INFO:root:status: <0 0 0 3 0 0 9 0 17 0>\n",
      "INFO:root:ply: player 0 plays Nimply(row=6, num_objects=3)\n",
      "INFO:root:status: <0 0 0 3 0 0 6 0 17 0>\n",
      "INFO:root:ply: player 1 plays Nimply(row=3, num_objects=3)\n",
      "INFO:root:status: <0 0 0 0 0 0 6 0 17 0>\n",
      "INFO:root:ply: player 0 plays Nimply(row=6, num_objects=4)\n",
      "INFO:root:status: <0 0 0 0 0 0 2 0 17 0>\n",
      "INFO:root:ply: player 1 plays Nimply(row=8, num_objects=1)\n",
      "INFO:root:status: <0 0 0 0 0 0 2 0 16 0>\n",
      "INFO:root:ply: player 0 plays Nimply(row=6, num_objects=1)\n",
      "INFO:root:status: <0 0 0 0 0 0 1 0 16 0>\n",
      "INFO:root:ply: player 1 plays Nimply(row=6, num_objects=1)\n",
      "INFO:root:status: <0 0 0 0 0 0 0 0 16 0>\n",
      "INFO:root:ply: player 0 plays Nimply(row=8, num_objects=11)\n",
      "INFO:root:status: <0 0 0 0 0 0 0 0 5 0>\n",
      "INFO:root:ply: player 1 plays Nimply(row=8, num_objects=1)\n",
      "INFO:root:status: <0 0 0 0 0 0 0 0 4 0>\n",
      "INFO:root:ply: player 0 plays Nimply(row=8, num_objects=2)\n",
      "INFO:root:status: <0 0 0 0 0 0 0 0 2 0>\n",
      "INFO:root:ply: player 1 plays Nimply(row=8, num_objects=1)\n",
      "INFO:root:status: <0 0 0 0 0 0 0 0 1 0>\n",
      "INFO:root:ply: player 0 plays Nimply(row=8, num_objects=1)\n",
      "INFO:root:status: <0 0 0 0 0 0 0 0 0 0>\n",
      "INFO:root:status: Player 1 won with <function ES at 0x10ee9b640>!\n"
     ]
    }
   ],
   "source": [
    "logging.getLogger().setLevel(logging.INFO)\n",
    "\n",
    "strategy = (pure_random, ES)\n",
    "\n",
    "nim = Nim(10)\n",
    "logging.info(f\"init : {nim}\")\n",
    "player = 0\n",
    "while nim:\n",
    "    ply = strategy[player](nim)\n",
    "    logging.info(f\"ply: player {player} plays {ply}\")\n",
    "    nim.nimming(ply)\n",
    "    logging.info(f\"status: {nim}\")\n",
    "    player = 1 - player\n",
    "logging.info(f\"status: Player {player} won with {strategy[player]}!\")"
   ]
  }
 ],
 "metadata": {
  "kernelspec": {
   "display_name": "Python 3.10.7 ('ci22-dPIXJ0_o-py3.10')",
   "language": "python",
   "name": "python3"
  },
  "language_info": {
   "codemirror_mode": {
    "name": "ipython",
    "version": 3
   },
   "file_extension": ".py",
   "mimetype": "text/x-python",
   "name": "python",
   "nbconvert_exporter": "python",
   "pygments_lexer": "ipython3",
   "version": "3.10.6"
  },
  "vscode": {
   "interpreter": {
    "hash": "10197e8e2f2aa67e2c349105091c77f4cd384fce4877865f002d9ec653f96bc0"
   }
  }
 },
 "nbformat": 4,
 "nbformat_minor": 2
}
