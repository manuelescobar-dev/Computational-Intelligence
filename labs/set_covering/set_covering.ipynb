{
 "cells": [
  {
   "cell_type": "markdown",
   "metadata": {},
   "source": [
    "# Problem"
   ]
  },
  {
   "cell_type": "markdown",
   "metadata": {},
   "source": [
    "Set covering problem is a classical optimization problem. It consists of finding the smallest set of subsets of a given set S such that each element of S belongs to at least one of these subsets."
   ]
  },
  {
   "cell_type": "markdown",
   "metadata": {},
   "source": [
    "# Implementation"
   ]
  },
  {
   "cell_type": "code",
   "execution_count": 457,
   "metadata": {},
   "outputs": [],
   "source": [
    "import random\n",
    "import sys\n",
    "import numpy as np\n",
    "\n",
    "sys.path.append(\"../../\")\n",
    "from lib.comparison import comparison\n",
    "from lib.search import Search"
   ]
  },
  {
   "cell_type": "markdown",
   "metadata": {},
   "source": [
    "## Standard Implementation"
   ]
  },
  {
   "cell_type": "markdown",
   "metadata": {},
   "source": [
    "### Class Definition"
   ]
  },
  {
   "cell_type": "code",
   "execution_count": 458,
   "metadata": {},
   "outputs": [],
   "source": [
    "class SetCovering(Search):\n",
    "    \"\"\"\n",
    "    state: set of indices\n",
    "    \"\"\"\n",
    "    def is_goal(self, state):\n",
    "        total = 0\n",
    "        length = len(self.space[0])\n",
    "        for i in range(length):\n",
    "            for j in state:\n",
    "                if self.space[j][i]:\n",
    "                    total += 1\n",
    "                    break\n",
    "        if total == length:\n",
    "            return True\n",
    "        else:\n",
    "            return False\n",
    "\n",
    "    def actions(self, state):\n",
    "        \"\"\"Return the actions that can be executed in the given state.\"\"\"\n",
    "        actions = []\n",
    "        for i in range(len(self.space)):\n",
    "            if i not in state:\n",
    "                actions.append(i)\n",
    "        return actions\n",
    "\n",
    "    \"\"\" def solution_format(self, actions):\n",
    "        result = []\n",
    "        for i in actions:\n",
    "            result.append(self.space[i])\n",
    "        return result \"\"\"\n",
    "\n",
    "    def results(self, state, action):\n",
    "        \"\"\"Return the state that results from executing the given\n",
    "        action in the given state.\"\"\"\n",
    "        new_state = state.copy()\n",
    "        new_state.add(action)\n",
    "        return new_state"
   ]
  },
  {
   "cell_type": "markdown",
   "metadata": {},
   "source": [
    "### Informed Strategies Functions"
   ]
  },
  {
   "cell_type": "code",
   "execution_count": 459,
   "metadata": {},
   "outputs": [],
   "source": [
    "def h_remaining(self, node):\n",
    "    total = 0\n",
    "    length = len(self.space[0])\n",
    "    for i in range(length):\n",
    "        for j in node.state:\n",
    "            if self.space[j][i]:\n",
    "                total += 1\n",
    "                break\n",
    "    return length - total"
   ]
  },
  {
   "cell_type": "code",
   "execution_count": 460,
   "metadata": {},
   "outputs": [],
   "source": [
    "def h_least_remaining(self, node):\n",
    "    total = 0\n",
    "    length = len(self.space[0])\n",
    "    for i in range(length):\n",
    "        for j in node.state:\n",
    "            if self.space[j][i]:\n",
    "                total += 1\n",
    "                break\n",
    "    return total"
   ]
  },
  {
   "cell_type": "code",
   "execution_count": 461,
   "metadata": {},
   "outputs": [],
   "source": [
    "def h_unique(self,node,weight=3):\n",
    "    s=list(node.state)\n",
    "    sp=np.array(self.space)\n",
    "    total=sp.sum(axis=0)\n",
    "    r=np.any(sp[s, :], axis=0)\n",
    "    weighted=(r*(1/total))\n",
    "    return -weighted.sum()*weight"
   ]
  },
  {
   "cell_type": "markdown",
   "metadata": {},
   "source": [
    "## Numpy Implementation"
   ]
  },
  {
   "cell_type": "markdown",
   "metadata": {},
   "source": [
    "### Class Definition"
   ]
  },
  {
   "cell_type": "code",
   "execution_count": 462,
   "metadata": {},
   "outputs": [],
   "source": [
    "class NumpySetCovering(Search):\n",
    "    \"\"\"\n",
    "    state: set of indices\n",
    "    \"\"\"\n",
    "\n",
    "    def is_goal(self, state):\n",
    "        total = 0\n",
    "        length = self.space.shape[1]\n",
    "        total = np.any(self.space[list(state), :], axis=0).sum()\n",
    "        if total == length:\n",
    "            return True\n",
    "        else:\n",
    "            return False\n",
    "\n",
    "    def actions(self, state):\n",
    "        \"\"\"Return the actions that can be executed in the given state.\"\"\"\n",
    "        actions = []\n",
    "        for i in range(self.space.shape[0]):\n",
    "            if i not in state:\n",
    "                actions.append(i)\n",
    "        return actions\n",
    "\n",
    "    \"\"\" def solution_format(self, actions):\n",
    "        result = []\n",
    "        for i in actions:\n",
    "            result.append(self.space[i])\n",
    "        return result \"\"\"\n",
    "\n",
    "    def results(self, state, action):\n",
    "        \"\"\"Return the state that results from executing the given\n",
    "        action in the given state.\"\"\"\n",
    "        new_state = state.copy()\n",
    "        new_state.add(action)\n",
    "        return new_state"
   ]
  },
  {
   "cell_type": "markdown",
   "metadata": {},
   "source": [
    "### Informed Strategies Functions"
   ]
  },
  {
   "cell_type": "code",
   "execution_count": 463,
   "metadata": {},
   "outputs": [],
   "source": [
    "def numpy_h_remaining(self, node):\n",
    "    total = 0\n",
    "    length = self.space.shape[1]\n",
    "    total = np.any(self.space[node.state, :], axis=0).sum()\n",
    "    return length - total"
   ]
  },
  {
   "cell_type": "code",
   "execution_count": 464,
   "metadata": {},
   "outputs": [],
   "source": [
    "def numpy_h_least_remaining(self,node):\n",
    "    total = np.any(self.space[node.state, :], axis=0).sum()\n",
    "    return total"
   ]
  },
  {
   "cell_type": "code",
   "execution_count": 465,
   "metadata": {},
   "outputs": [],
   "source": [
    "def numpy_unique(self,node,weight=1):\n",
    "    total=self.space.sum(axis=0)\n",
    "    r=np.any(self.space[node.state, :], axis=0)\n",
    "    weighted=(r*(1/total))\n",
    "    return -weighted.sum()"
   ]
  },
  {
   "cell_type": "markdown",
   "metadata": {},
   "source": [
    "## State Space Generation"
   ]
  },
  {
   "cell_type": "code",
   "execution_count": 466,
   "metadata": {},
   "outputs": [],
   "source": [
    "def generate_random_space(set_number, problem_shape, probability, return_numpy=False):\n",
    "    matrix=[\n",
    "            [random.random() < probability for i in range(problem_shape)]\n",
    "            for j in range(set_number)\n",
    "        ]\n",
    "    return matrix, np.array(matrix)"
   ]
  },
  {
   "cell_type": "markdown",
   "metadata": {},
   "source": [
    "# Tests"
   ]
  },
  {
   "cell_type": "markdown",
   "metadata": {},
   "source": [
    "## Test 1"
   ]
  },
  {
   "cell_type": "code",
   "execution_count": 467,
   "metadata": {},
   "outputs": [],
   "source": [
    "SUBSETS_NUMBER = 10\n",
    "SUBSETS_SIZE = 5\n",
    "PROBABILITY = 0.3"
   ]
  },
  {
   "cell_type": "code",
   "execution_count": 468,
   "metadata": {},
   "outputs": [
    {
     "name": "stdout",
     "output_type": "stream",
     "text": [
      "[[False False False False  True]\n",
      " [False  True False False False]\n",
      " [False False False False False]\n",
      " [False False False  True False]\n",
      " [False False  True False False]\n",
      " [False False False False False]\n",
      " [False  True False  True False]\n",
      " [ True  True  True False  True]\n",
      " [False False  True False False]\n",
      " [ True False False False False]]\n"
     ]
    }
   ],
   "source": [
    "space, nspace = generate_random_space(SUBSETS_NUMBER, SUBSETS_SIZE, PROBABILITY)\n",
    "print(nspace)"
   ]
  },
  {
   "cell_type": "markdown",
   "metadata": {},
   "source": [
    "### Standard Implementation"
   ]
  },
  {
   "cell_type": "code",
   "execution_count": 469,
   "metadata": {},
   "outputs": [],
   "source": [
    "m = SetCovering(space)"
   ]
  },
  {
   "cell_type": "code",
   "execution_count": 470,
   "metadata": {},
   "outputs": [],
   "source": [
    "initial_space = set()"
   ]
  },
  {
   "cell_type": "code",
   "execution_count": 471,
   "metadata": {},
   "outputs": [
    {
     "name": "stdout",
     "output_type": "stream",
     "text": [
      "+-----------------------------+--------------+----------+-----------+\n",
      "|           Strategy          |   Solution   | Explored |    Time   |\n",
      "+-----------------------------+--------------+----------+-----------+\n",
      "|             bfs             |    [3, 7]    |    39    | 1.885e-03 |\n",
      "|             dfs             | [9, 8, 7, 6] |    5     | 9.608e-05 |\n",
      "|  greedy | h: Most Remaining |    [7, 3]    |    3     | 4.280e-04 |\n",
      "| greedy | h: Least Remaining | [2, 5, 3, 7] |   610    | 1.588e-01 |\n",
      "|      greedy | h: Unique     |    [7, 3]    |    3     | 1.184e-03 |\n",
      "|  astar | h: Most Remaining  |    [7, 3]    |    3     | 9.799e-05 |\n",
      "|  astar | h: Least Remaining |    [3, 7]    |   198    | 3.146e-02 |\n",
      "|      astar | h: Unique      |    [7, 3]    |    3     | 6.070e-04 |\n",
      "+-----------------------------+--------------+----------+-----------+\n"
     ]
    }
   ],
   "source": [
    "comparison(m, initial_space, [\"bfs\", \"dfs\", \"greedy\", \"astar\"], heuristics=[(h_remaining, \"Most Remaining\"), (h_least_remaining, \"Least Remaining\"), (h_unique, \"Unique\")])"
   ]
  },
  {
   "cell_type": "markdown",
   "metadata": {},
   "source": [
    "### NumPy Implementation"
   ]
  },
  {
   "cell_type": "code",
   "execution_count": 472,
   "metadata": {},
   "outputs": [],
   "source": [
    "n = NumpySetCovering(nspace)"
   ]
  },
  {
   "cell_type": "code",
   "execution_count": 473,
   "metadata": {},
   "outputs": [],
   "source": [
    "initial_space = set()"
   ]
  },
  {
   "cell_type": "code",
   "execution_count": 474,
   "metadata": {},
   "outputs": [
    {
     "name": "stdout",
     "output_type": "stream",
     "text": [
      "+----------------------------+--------------+----------+-----------+\n",
      "|          Strategy          |   Solution   | Explored |    Time   |\n",
      "+----------------------------+--------------+----------+-----------+\n",
      "|            bfs             |    [3, 7]    |    45    | 3.964e-03 |\n",
      "|            dfs             | [9, 8, 7, 6] |    5     | 1.450e-04 |\n",
      "| greedy | h: Most Remaining |    [7, 3]    |    3     | 2.649e-04 |\n",
      "|     greedy | h: Unique     |    [7, 3]    |    3     | 9.162e-04 |\n",
      "| astar | h: Most Remaining  |    [7, 3]    |    3     | 2.329e-04 |\n",
      "|     astar | h: Unique      |    [7, 3]    |    3     | 6.070e-04 |\n",
      "+----------------------------+--------------+----------+-----------+\n"
     ]
    }
   ],
   "source": [
    "comparison(n, initial_space, [\"bfs\", \"dfs\", \"greedy\", \"astar\"], heuristics=[(numpy_h_remaining, \"Most Remaining\"),(numpy_unique, \"Unique\")])"
   ]
  },
  {
   "cell_type": "markdown",
   "metadata": {},
   "source": [
    "# Analysis"
   ]
  },
  {
   "cell_type": "markdown",
   "metadata": {},
   "source": [
    "## Search Strategies"
   ]
  },
  {
   "cell_type": "markdown",
   "metadata": {},
   "source": [
    "- The standard implementation of the problem is more efficient than the NumPy implementation.\n",
    "- The informed strategies are more efficient than the uninformed ones.\n",
    "- DFS is significantly more efficient than BFS, altough it doesn't find the optimal solution in most cases.\n",
    "- greedy search is the most efficient informed strategy, altough it doesn't always find the optimal solution.\n",
    "- A* efficiency is similar to greedy search, but it finds the optimal solution in most cases."
   ]
  },
  {
   "cell_type": "markdown",
   "metadata": {},
   "source": [
    "## Heuristics"
   ]
  },
  {
   "cell_type": "markdown",
   "metadata": {},
   "source": [
    "- `h_remaining`: returns the number of elements that are not covered by the current state.\n",
    "- `h_least_remaining`: returns the number of elements that are covered by the current state.\n",
    "- `h_unique`: returns the sum of each element that is covered in the current state inversely multiplied by the frequency of that element on the state space.\n",
    "  - Example:\n",
    "    - s1=[1, 0, 1, 0]\n",
    "    - s2=[0, 1, 0, 1]\n",
    "    - space=[[1, 0, 1, 0],\n",
    "            [0, 1, 0, 1],\n",
    "            [0, 1, 0, 0]]\n",
    "    - h_unique(s1) = -(1*1+0*1/2+1*1+0*1) = -2\n",
    "    - h_unique(s2) = -(0*1+1*1/2+0*1+1*1) = -1.5\n",
    "    - Therefore, s1 is chosen over s2."
   ]
  },
  {
   "cell_type": "markdown",
   "metadata": {},
   "source": [
    "- h_least_remaining obtained significantly worse results than the other functions, which was expected as it always selects the state with the least number of remaining elements to be covered.\n",
    "- h_remaining and h_unique obtained very similar results. Sometimes one of them outperform the other, but overall they are very similar."
   ]
  }
 ],
 "metadata": {
  "kernelspec": {
   "display_name": "Python 3",
   "language": "python",
   "name": "python3"
  },
  "language_info": {
   "codemirror_mode": {
    "name": "ipython",
    "version": 3
   },
   "file_extension": ".py",
   "mimetype": "text/x-python",
   "name": "python",
   "nbconvert_exporter": "python",
   "pygments_lexer": "ipython3",
   "version": "3.10.6"
  }
 },
 "nbformat": 4,
 "nbformat_minor": 2
}
