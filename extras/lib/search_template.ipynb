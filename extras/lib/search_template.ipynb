{
 "cells": [
  {
   "cell_type": "markdown",
   "metadata": {},
   "source": [
    "# Imports"
   ]
  },
  {
   "cell_type": "code",
   "execution_count": null,
   "metadata": {},
   "outputs": [],
   "source": [
    "from search import Search"
   ]
  },
  {
   "cell_type": "markdown",
   "metadata": {},
   "source": [
    "# Define Problem"
   ]
  },
  {
   "cell_type": "code",
   "execution_count": null,
   "metadata": {},
   "outputs": [],
   "source": [
    "class Template(Search):\n",
    "    def actions(self, state):\n",
    "        \"\"\"Return the actions that can be executed in the given state.\"\"\"\n",
    "        pass\n",
    "\n",
    "    def result(self, state, action):\n",
    "        \"\"\"Return the state that results from executing the given action.\"\"\"\n",
    "        pass\n",
    "\n",
    "    def is_goal(self, state):\n",
    "        \"\"\"OPTIONAL: Return True if the state is a goal.\"\"\"\n",
    "        pass\n",
    "\n",
    "    def priority_function(self, state):\n",
    "        \"\"\"OPTIONAL: Return the priority function for a given state.\"\"\"\n",
    "        pass\n",
    "\n",
    "    def solution_format(self, actions):\n",
    "        \"\"\"OPTIONAL: Return the solution in the desired output format.\"\"\"\n",
    "        pass"
   ]
  },
  {
   "cell_type": "code",
   "execution_count": null,
   "metadata": {},
   "outputs": [],
   "source": [
    "space=[]\n",
    "problem = Template(space)"
   ]
  },
  {
   "cell_type": "markdown",
   "metadata": {},
   "source": [
    "# Solve Problem\n",
    "\n",
    "- `initial_state` = starting state\n",
    "- `goal` = goal state\n",
    "- `strategy` = \"bfs\" or \"dfs\" or \"ucs\""
   ]
  },
  {
   "cell_type": "code",
   "execution_count": null,
   "metadata": {},
   "outputs": [],
   "source": [
    "initial_state = set()\n",
    "goal = None\n",
    "strategy = \"bfs\""
   ]
  },
  {
   "cell_type": "code",
   "execution_count": null,
   "metadata": {},
   "outputs": [],
   "source": [
    "problem.solve(initial_state, goal, strategy)\n",
    "print(problem.solution)"
   ]
  }
 ],
 "metadata": {
  "language_info": {
   "name": "python"
  }
 },
 "nbformat": 4,
 "nbformat_minor": 2
}
