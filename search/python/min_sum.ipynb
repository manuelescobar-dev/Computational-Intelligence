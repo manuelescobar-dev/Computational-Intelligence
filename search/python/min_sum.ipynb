{
 "cells": [
  {
   "cell_type": "markdown",
   "metadata": {},
   "source": [
    "# Imports"
   ]
  },
  {
   "cell_type": "code",
   "execution_count": 1,
   "metadata": {},
   "outputs": [],
   "source": [
    "from search import Search"
   ]
  },
  {
   "cell_type": "markdown",
   "metadata": {},
   "source": [
    "# Define Problem"
   ]
  },
  {
   "cell_type": "code",
   "execution_count": 2,
   "metadata": {},
   "outputs": [],
   "source": [
    "class MinSum(Search):\n",
    "    \"\"\"\n",
    "    state: set of indices\n",
    "    \"\"\"\n",
    "\n",
    "    def is_goal(self, state, goal):\n",
    "        return sum([self.space[i] for i in state]) == goal\n",
    "\n",
    "    def actions(self, state, goal):\n",
    "        \"\"\"Return the actions that can be executed in the given state.\"\"\"\n",
    "        actions = []\n",
    "        for i in range(len(self.space)):\n",
    "            if i not in state:\n",
    "                if sum([self.space[i] for i in state]) + self.space[i] <= goal:\n",
    "                    actions.append(i)\n",
    "        return actions\n",
    "    \n",
    "    \n",
    "\n",
    "    def solution_format(self, actions):\n",
    "        result = []\n",
    "        for i in actions:\n",
    "            result.append(self.space[i])\n",
    "        return result\n",
    "\n",
    "    def results(self, state, action):\n",
    "        \"\"\"Return the state that results from executing the given\n",
    "        action in the given state.\"\"\"\n",
    "        new_state = state.copy()\n",
    "        new_state.add(action)\n",
    "        return new_state"
   ]
  },
  {
   "cell_type": "code",
   "execution_count": 3,
   "metadata": {},
   "outputs": [],
   "source": [
    "space = [1, 2, 3, 4, 5, 6, 7, 8, 1, 2, 3]\n",
    "problem = MinSum(space)"
   ]
  },
  {
   "cell_type": "markdown",
   "metadata": {},
   "source": [
    "# Solve Problem\n",
    "\n",
    "- `initial_state` = starting state\n",
    "- `goal` = goal state\n",
    "- `strategy` = \"bfs\" or \"dfs\" or \"ucs\""
   ]
  },
  {
   "cell_type": "code",
   "execution_count": 4,
   "metadata": {},
   "outputs": [],
   "source": [
    "initial_state = set()\n",
    "goal = 27\n",
    "strategy = \"ucs\""
   ]
  },
  {
   "cell_type": "code",
   "execution_count": 5,
   "metadata": {},
   "outputs": [
    {
     "name": "stdout",
     "output_type": "stream",
     "text": [
      "<bound method Search.g of <__main__.MinSum object at 0x11ac5c490>>\n"
     ]
    },
    {
     "ename": "TypeError",
     "evalue": "Search.g() takes 1 positional argument but 2 were given",
     "output_type": "error",
     "traceback": [
      "\u001b[0;31m---------------------------------------------------------------------------\u001b[0m",
      "\u001b[0;31mTypeError\u001b[0m                                 Traceback (most recent call last)",
      "\u001b[1;32m/Users/manuelescobar/Documents/POLITO/2023-2/CI/Computational-Intelligence/search/python/min_sum.ipynb Cell 8\u001b[0m line \u001b[0;36m1\n\u001b[0;32m----> <a href='vscode-notebook-cell:/Users/manuelescobar/Documents/POLITO/2023-2/CI/Computational-Intelligence/search/python/min_sum.ipynb#X10sZmlsZQ%3D%3D?line=0'>1</a>\u001b[0m problem\u001b[39m.\u001b[39;49msolve(initial_state, goal, strategy)\n\u001b[1;32m      <a href='vscode-notebook-cell:/Users/manuelescobar/Documents/POLITO/2023-2/CI/Computational-Intelligence/search/python/min_sum.ipynb#X10sZmlsZQ%3D%3D?line=1'>2</a>\u001b[0m \u001b[39mprint\u001b[39m(problem\u001b[39m.\u001b[39msolution)\n",
      "File \u001b[0;32m~/Documents/POLITO/2023-2/CI/Computational-Intelligence/search/python/search.py:132\u001b[0m, in \u001b[0;36mSearch.solve\u001b[0;34m(self, start, goal, strategy)\u001b[0m\n\u001b[1;32m    130\u001b[0m \u001b[39melif\u001b[39;00m strategy \u001b[39m==\u001b[39m \u001b[39m\"\u001b[39m\u001b[39mucs\u001b[39m\u001b[39m\"\u001b[39m:\n\u001b[1;32m    131\u001b[0m     frontier \u001b[39m=\u001b[39m PriorityFrontier(\u001b[39mself\u001b[39m\u001b[39m.\u001b[39mpriority_function(strategy))\n\u001b[0;32m--> 132\u001b[0m frontier\u001b[39m.\u001b[39;49madd(start)\n\u001b[1;32m    134\u001b[0m \u001b[39m# Initialize an empty explored set\u001b[39;00m\n\u001b[1;32m    135\u001b[0m \u001b[39mself\u001b[39m\u001b[39m.\u001b[39mexplored \u001b[39m=\u001b[39m \u001b[39mset\u001b[39m()\n",
      "File \u001b[0;32m~/Documents/POLITO/2023-2/CI/Computational-Intelligence/search/python/search.py:49\u001b[0m, in \u001b[0;36mPriorityFrontier.add\u001b[0;34m(self, node)\u001b[0m\n\u001b[1;32m     47\u001b[0m \u001b[39mdef\u001b[39;00m \u001b[39madd\u001b[39m(\u001b[39mself\u001b[39m, node):\n\u001b[1;32m     48\u001b[0m     \u001b[39mprint\u001b[39m(\u001b[39mself\u001b[39m\u001b[39m.\u001b[39mpriority_function)\n\u001b[0;32m---> 49\u001b[0m     item \u001b[39m=\u001b[39m PrioritizedItem(\u001b[39mself\u001b[39;49m\u001b[39m.\u001b[39;49mpriority_function(node), node)\n\u001b[1;32m     50\u001b[0m     \u001b[39mself\u001b[39m\u001b[39m.\u001b[39mfrontier\u001b[39m.\u001b[39mput(item)\n",
      "\u001b[0;31mTypeError\u001b[0m: Search.g() takes 1 positional argument but 2 were given"
     ]
    }
   ],
   "source": [
    "problem.solve(initial_state, goal, strategy)\n",
    "print(problem.solution)"
   ]
  }
 ],
 "metadata": {
  "kernelspec": {
   "display_name": "Python 3",
   "language": "python",
   "name": "python3"
  },
  "language_info": {
   "codemirror_mode": {
    "name": "ipython",
    "version": 3
   },
   "file_extension": ".py",
   "mimetype": "text/x-python",
   "name": "python",
   "nbconvert_exporter": "python",
   "pygments_lexer": "ipython3",
   "version": "3.10.6"
  }
 },
 "nbformat": 4,
 "nbformat_minor": 2
}
