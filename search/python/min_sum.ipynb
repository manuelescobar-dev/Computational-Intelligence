{
 "cells": [
  {
   "cell_type": "markdown",
   "metadata": {},
   "source": [
    "# Imports"
   ]
  },
  {
   "cell_type": "code",
   "execution_count": 1,
   "metadata": {},
   "outputs": [],
   "source": [
    "from search import Search"
   ]
  },
  {
   "cell_type": "markdown",
   "metadata": {},
   "source": [
    "# Define Problem"
   ]
  },
  {
   "cell_type": "code",
   "execution_count": 2,
   "metadata": {},
   "outputs": [],
   "source": [
    "class MinSum(Search):\n",
    "    \"\"\"\n",
    "    state: set of indices\n",
    "    \"\"\"\n",
    "\n",
    "    def is_goal(self, state, goal):\n",
    "        return sum([self.space[i] for i in state]) == goal\n",
    "\n",
    "    def actions(self, state, goal):\n",
    "        \"\"\"Return the actions that can be executed in the given state.\"\"\"\n",
    "        actions = []\n",
    "        for i in range(len(self.space)):\n",
    "            if i not in state:\n",
    "                if sum([self.space[i] for i in state]) + self.space[i] <= goal:\n",
    "                    actions.append(i)\n",
    "        return actions\n",
    "\n",
    "    def solution_format(self, actions):\n",
    "        result = []\n",
    "        for i in actions:\n",
    "            result.append(self.space[i])\n",
    "        return result\n",
    "\n",
    "    def results(self, state, action):\n",
    "        \"\"\"Return the state that results from executing the given\n",
    "        action in the given state.\"\"\"\n",
    "        new_state = state.copy()\n",
    "        new_state.add(action)\n",
    "        return new_state"
   ]
  },
  {
   "cell_type": "code",
   "execution_count": 3,
   "metadata": {},
   "outputs": [],
   "source": [
    "space = [1, 2, 3, 4, 5, 6, 7, 8, 1, 2, 3]\n",
    "problem = MinSum(space)"
   ]
  },
  {
   "cell_type": "markdown",
   "metadata": {},
   "source": [
    "# Solve Problem\n",
    "\n",
    "- `initial_state` = starting state\n",
    "- `goal` = goal state\n",
    "- `strategy` = \"bfs\" or \"dfs\" or \"ucs\""
   ]
  },
  {
   "cell_type": "code",
   "execution_count": 4,
   "metadata": {},
   "outputs": [],
   "source": [
    "initial_state = set()\n",
    "goal = 27\n",
    "strategy = \"bfs\""
   ]
  },
  {
   "cell_type": "code",
   "execution_count": 5,
   "metadata": {},
   "outputs": [
    {
     "name": "stdout",
     "output_type": "stream",
     "text": [
      "[1, 5, 6, 7, 8]\n"
     ]
    }
   ],
   "source": [
    "problem.solve(initial_state, goal, strategy)\n",
    "print(problem.solution)"
   ]
  }
 ],
 "metadata": {
  "kernelspec": {
   "display_name": "Python 3",
   "language": "python",
   "name": "python3"
  },
  "language_info": {
   "codemirror_mode": {
    "name": "ipython",
    "version": 3
   },
   "file_extension": ".py",
   "mimetype": "text/x-python",
   "name": "python",
   "nbconvert_exporter": "python",
   "pygments_lexer": "ipython3",
   "version": "3.10.6"
  }
 },
 "nbformat": 4,
 "nbformat_minor": 2
}
