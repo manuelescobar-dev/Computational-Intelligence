{
 "cells": [
  {
   "cell_type": "markdown",
   "metadata": {},
   "source": [
    "# Imports"
   ]
  },
  {
   "cell_type": "code",
   "execution_count": 1,
   "metadata": {},
   "outputs": [],
   "source": [
    "from search import Search\n",
    "import random"
   ]
  },
  {
   "cell_type": "markdown",
   "metadata": {},
   "source": [
    "# Define Problem"
   ]
  },
  {
   "cell_type": "code",
   "execution_count": 2,
   "metadata": {},
   "outputs": [],
   "source": [
    "class SetCovering(Search):\n",
    "    \"\"\"\n",
    "    state: set of indices\n",
    "    \"\"\"\n",
    "\n",
    "    def is_goal(self, state, goal):\n",
    "        total = 0\n",
    "        length = len(self.space[0])\n",
    "        for i in range(length):\n",
    "            for j in state:\n",
    "                if self.space[j][i]:\n",
    "                    total += 1\n",
    "                    break\n",
    "        if total == length:\n",
    "            return True\n",
    "        else:\n",
    "            return False\n",
    "\n",
    "    def g(self, state, goal):\n",
    "        total = 0\n",
    "        length = len(self.space[0])\n",
    "        for i in range(length):\n",
    "            for j in state:\n",
    "                if self.space[j][i]:\n",
    "                    total += 1\n",
    "                    break\n",
    "        return length - total\n",
    "\n",
    "    def actions(self, state, goal):\n",
    "        \"\"\"Return the actions that can be executed in the given state.\"\"\"\n",
    "        actions = []\n",
    "        for i in range(len(self.space)):\n",
    "            if i not in state:\n",
    "                actions.append(i)\n",
    "        return actions\n",
    "\n",
    "    def results(self, state, action):\n",
    "        \"\"\"Return the state that results from executing the given\n",
    "        action in the given state.\"\"\"\n",
    "        new_state = state.copy()\n",
    "        new_state.add(action)\n",
    "        return new_state"
   ]
  },
  {
   "cell_type": "code",
   "execution_count": 3,
   "metadata": {},
   "outputs": [],
   "source": [
    "def generate_random_space(set_number, problem_size, probability):\n",
    "    space = []\n",
    "    for i in range(set_number):\n",
    "        set = []\n",
    "        for j in range(problem_size):\n",
    "            set.append(random.random() < probability)\n",
    "        space.append(set)\n",
    "    return space"
   ]
  },
  {
   "cell_type": "code",
   "execution_count": 4,
   "metadata": {},
   "outputs": [
    {
     "name": "stdout",
     "output_type": "stream",
     "text": [
      "[[True, False, False, True, False], [False, True, False, False, False], [True, False, False, False, False], [False, False, False, True, False], [False, False, False, False, False], [True, False, False, False, False], [False, False, False, False, False], [False, False, False, False, False], [False, False, False, False, True], [False, False, False, False, False]]\n"
     ]
    }
   ],
   "source": [
    "SET_NUMBER = 10\n",
    "PROBLEM_SIZE = 5\n",
    "PROBABILITY = 0.2\n",
    "space=generate_random_space(SET_NUMBER, PROBLEM_SIZE, PROBABILITY)\n",
    "problem = SetCovering(space)\n",
    "print(problem.space)"
   ]
  },
  {
   "cell_type": "markdown",
   "metadata": {},
   "source": [
    "# Solve Problem\n",
    "\n",
    "- `initial_state` = starting state\n",
    "- `goal` = goal state\n",
    "- `strategy` = \"bfs\" or \"dfs\" or \"ucs\""
   ]
  },
  {
   "cell_type": "code",
   "execution_count": 5,
   "metadata": {},
   "outputs": [],
   "source": [
    "initial_state = set()\n",
    "goal = None\n",
    "strategy = \"ucs\""
   ]
  },
  {
   "cell_type": "code",
   "execution_count": 6,
   "metadata": {},
   "outputs": [
    {
     "ename": "Exception",
     "evalue": "no solution",
     "output_type": "error",
     "traceback": [
      "\u001b[0;31m---------------------------------------------------------------------------\u001b[0m",
      "\u001b[0;31mException\u001b[0m                                 Traceback (most recent call last)",
      "\u001b[1;32m/Users/manuelescobar/Documents/POLITO/2023-2/CI/Computational-Intelligence/search/python/set_covering.ipynb Cell 9\u001b[0m line \u001b[0;36m1\n\u001b[0;32m----> <a href='vscode-notebook-cell:/Users/manuelescobar/Documents/POLITO/2023-2/CI/Computational-Intelligence/search/python/set_covering.ipynb#X11sZmlsZQ%3D%3D?line=0'>1</a>\u001b[0m problem\u001b[39m.\u001b[39;49msolve(initial_state, goal, strategy)\n\u001b[1;32m      <a href='vscode-notebook-cell:/Users/manuelescobar/Documents/POLITO/2023-2/CI/Computational-Intelligence/search/python/set_covering.ipynb#X11sZmlsZQ%3D%3D?line=1'>2</a>\u001b[0m \u001b[39mprint\u001b[39m(problem\u001b[39m.\u001b[39msolution)\n",
      "File \u001b[0;32m~/Documents/POLITO/2023-2/CI/Computational-Intelligence/search/python/search.py:140\u001b[0m, in \u001b[0;36mSearch.solve\u001b[0;34m(self, start, goal, strategy)\u001b[0m\n\u001b[1;32m    137\u001b[0m \u001b[39mwhile\u001b[39;00m \u001b[39mTrue\u001b[39;00m:\n\u001b[1;32m    138\u001b[0m     \u001b[39m# If nothing left in frontier, then no path\u001b[39;00m\n\u001b[1;32m    139\u001b[0m     \u001b[39mif\u001b[39;00m frontier\u001b[39m.\u001b[39mempty():\n\u001b[0;32m--> 140\u001b[0m         \u001b[39mraise\u001b[39;00m \u001b[39mException\u001b[39;00m(\u001b[39m\"\u001b[39m\u001b[39mno solution\u001b[39m\u001b[39m\"\u001b[39m)\n\u001b[1;32m    142\u001b[0m     \u001b[39m# Choose a node from the frontier\u001b[39;00m\n\u001b[1;32m    143\u001b[0m     node \u001b[39m=\u001b[39m frontier\u001b[39m.\u001b[39mremove()\n",
      "\u001b[0;31mException\u001b[0m: no solution"
     ]
    }
   ],
   "source": [
    "problem.solve(initial_state, goal, strategy)\n",
    "print(problem.solution)"
   ]
  }
 ],
 "metadata": {
  "kernelspec": {
   "display_name": "Python 3",
   "language": "python",
   "name": "python3"
  },
  "language_info": {
   "codemirror_mode": {
    "name": "ipython",
    "version": 3
   },
   "file_extension": ".py",
   "mimetype": "text/x-python",
   "name": "python",
   "nbconvert_exporter": "python",
   "pygments_lexer": "ipython3",
   "version": "3.10.6"
  }
 },
 "nbformat": 4,
 "nbformat_minor": 2
}
