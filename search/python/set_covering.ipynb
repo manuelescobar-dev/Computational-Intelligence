{
 "cells": [
  {
   "cell_type": "markdown",
   "metadata": {},
   "source": [
    "# Imports"
   ]
  },
  {
   "cell_type": "code",
   "execution_count": 58,
   "metadata": {},
   "outputs": [],
   "source": [
    "from search import Search\n",
    "import random"
   ]
  },
  {
   "cell_type": "markdown",
   "metadata": {},
   "source": [
    "# Define Problem"
   ]
  },
  {
   "cell_type": "code",
   "execution_count": 59,
   "metadata": {},
   "outputs": [],
   "source": [
    "class SetCovering(Search):\n",
    "    \"\"\"\n",
    "    state: set of indices\n",
    "    \"\"\"\n",
    "\n",
    "    def is_goal(self, state, goal):\n",
    "        total = 0\n",
    "        length = len(self.space[0])\n",
    "        for i in range(length):\n",
    "            for j in state:\n",
    "                if self.space[j][i]:\n",
    "                    total += 1\n",
    "                    break\n",
    "        if total == length:\n",
    "            return True\n",
    "        else:\n",
    "            return False\n",
    "\n",
    "    def heuristic(self, state):\n",
    "        total = 0\n",
    "        length = len(self.space[0])\n",
    "        for i in range(length):\n",
    "            for j in state:\n",
    "                if self.space[j][i]:\n",
    "                    total += 1\n",
    "                    break\n",
    "        return length - total\n",
    "\n",
    "    def actions(self, state, goal):\n",
    "        \"\"\"Return the actions that can be executed in the given state.\"\"\"\n",
    "        actions = []\n",
    "        for i in range(len(self.space)):\n",
    "            if i not in state:\n",
    "                actions.append(i)\n",
    "        return actions\n",
    "\n",
    "    def results(self, state, action):\n",
    "        \"\"\"Return the state that results from executing the given\n",
    "        action in the given state.\"\"\"\n",
    "        new_state = state.copy()\n",
    "        new_state.add(action)\n",
    "        return new_state"
   ]
  },
  {
   "cell_type": "code",
   "execution_count": 60,
   "metadata": {},
   "outputs": [],
   "source": [
    "def generate_random_space(set_number, problem_size, probability):\n",
    "    space = []\n",
    "    for i in range(set_number):\n",
    "        set = []\n",
    "        for j in range(problem_size):\n",
    "            set.append(random.random() < probability)\n",
    "        space.append(set)\n",
    "    return space"
   ]
  },
  {
   "cell_type": "code",
   "execution_count": 66,
   "metadata": {},
   "outputs": [
    {
     "name": "stdout",
     "output_type": "stream",
     "text": [
      "[[False, False, False, False, False], [False, False, False, False, False], [False, True, False, True, False], [False, True, False, False, True], [False, False, False, True, False], [False, False, False, True, False], [False, False, True, False, False], [False, False, True, False, False], [False, False, True, False, False], [True, True, False, False, False]]\n"
     ]
    }
   ],
   "source": [
    "SET_NUMBER = 10\n",
    "PROBLEM_SIZE = 5\n",
    "PROBABILITY = 0.2\n",
    "space=generate_random_space(SET_NUMBER, PROBLEM_SIZE, PROBABILITY)\n",
    "problem = SetCovering(space)\n",
    "print(problem.space)"
   ]
  },
  {
   "cell_type": "markdown",
   "metadata": {},
   "source": [
    "# Solve Problem\n",
    "\n",
    "- `initial_state` = starting state\n",
    "- `goal` = goal state\n",
    "- `strategy` = \"bfs\" or \"dfs\" or \"ucs\""
   ]
  },
  {
   "cell_type": "code",
   "execution_count": 67,
   "metadata": {},
   "outputs": [],
   "source": [
    "initial_state = set()\n",
    "goal = None\n",
    "strategy = \"ucs\""
   ]
  },
  {
   "cell_type": "code",
   "execution_count": 68,
   "metadata": {},
   "outputs": [
    {
     "name": "stdout",
     "output_type": "stream",
     "text": [
      "[2, 3, 6, 9]\n"
     ]
    }
   ],
   "source": [
    "problem.solve(initial_state, goal, strategy)\n",
    "print(problem.solution)"
   ]
  }
 ],
 "metadata": {
  "kernelspec": {
   "display_name": "Python 3",
   "language": "python",
   "name": "python3"
  },
  "language_info": {
   "codemirror_mode": {
    "name": "ipython",
    "version": 3
   },
   "file_extension": ".py",
   "mimetype": "text/x-python",
   "name": "python",
   "nbconvert_exporter": "python",
   "pygments_lexer": "ipython3",
   "version": "3.10.6"
  }
 },
 "nbformat": 4,
 "nbformat_minor": 2
}
